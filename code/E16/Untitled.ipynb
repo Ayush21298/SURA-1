{
 "cells": [
  {
   "cell_type": "code",
   "execution_count": 1,
   "metadata": {
    "collapsed": true
   },
   "outputs": [],
   "source": [
    "import tensorflow as tf"
   ]
  },
  {
   "cell_type": "code",
   "execution_count": 2,
   "metadata": {
    "collapsed": true
   },
   "outputs": [],
   "source": [
    "import numpy as np"
   ]
  },
  {
   "cell_type": "code",
   "execution_count": 3,
   "metadata": {
    "collapsed": true
   },
   "outputs": [],
   "source": [
    "cell = tf.contrib.rnn.BasicLSTMCell(5)"
   ]
  },
  {
   "cell_type": "code",
   "execution_count": 4,
   "metadata": {
    "collapsed": true
   },
   "outputs": [],
   "source": [
    "cell_2 = tf.contrib.rnn.BasicRNNCell(5)"
   ]
  },
  {
   "cell_type": "code",
   "execution_count": 5,
   "metadata": {
    "collapsed": false
   },
   "outputs": [],
   "source": [
    "rand_inputs = np.random.normal(size=[1,5,1])"
   ]
  },
  {
   "cell_type": "code",
   "execution_count": 6,
   "metadata": {
    "collapsed": false
   },
   "outputs": [],
   "source": [
    "inputs = tf.constant(rand_inputs,dtype=tf.float32)"
   ]
  },
  {
   "cell_type": "code",
   "execution_count": 7,
   "metadata": {
    "collapsed": true
   },
   "outputs": [],
   "source": [
    "zero_state_1 = cell.zero_state(1,dtype=tf.float32)\n",
    "zero_state_2 = cell_2.zero_state(1,dtype=tf.float32)"
   ]
  },
  {
   "cell_type": "code",
   "execution_count": 8,
   "metadata": {
    "collapsed": true
   },
   "outputs": [],
   "source": [
    "states_1 = []\n",
    "outputs_1 = []\n",
    "states_2 = []\n",
    "outputs_2 = []"
   ]
  },
  {
   "cell_type": "code",
   "execution_count": 9,
   "metadata": {
    "collapsed": true
   },
   "outputs": [],
   "source": [
    "state_1 = zero_state_1\n",
    "state_2 = zero_state_2"
   ]
  },
  {
   "cell_type": "code",
   "execution_count": 11,
   "metadata": {
    "collapsed": false
   },
   "outputs": [],
   "source": [
    "out,state_1 = cell(inputs[:,0,:],state_1)\n",
    "outputs_1.append(out)\n",
    "states_1.append(state_1)\n",
    "\n",
    "out,state_2 = cell_2(inputs[:,0,:],state_2)\n",
    "outputs_2.append(out)\n",
    "states_2.append(state_2)"
   ]
  },
  {
   "cell_type": "code",
   "execution_count": null,
   "metadata": {
    "collapsed": false
   },
   "outputs": [],
   "source": [
    "out"
   ]
  },
  {
   "cell_type": "code",
   "execution_count": 18,
   "metadata": {
    "collapsed": false
   },
   "outputs": [],
   "source": [
    "for i in range(4):\n",
    "    with tf.variable_scope('',reuse=True):\n",
    "        out,state_1 = cell(inputs[:,i,:],state_1)\n",
    "        outputs_1.append(out)\n",
    "        states_1.append(state_1)\n",
    "\n",
    "        out,state_2 = cell_2(inputs[:,i,:],state_2)\n",
    "        outputs_2.append(out)\n",
    "        states_2.append(state_2)"
   ]
  },
  {
   "cell_type": "code",
   "execution_count": 20,
   "metadata": {
    "collapsed": false
   },
   "outputs": [],
   "source": [
    "sess = tf.Session()"
   ]
  },
  {
   "cell_type": "code",
   "execution_count": 21,
   "metadata": {
    "collapsed": false
   },
   "outputs": [],
   "source": [
    "sess.run(tf.global_variables_initializer())"
   ]
  },
  {
   "cell_type": "code",
   "execution_count": 22,
   "metadata": {
    "collapsed": false
   },
   "outputs": [],
   "source": [
    "o1,s1,o2,s2 = sess.run([outputs_1,states_1,outputs_2,states_2])"
   ]
  },
  {
   "cell_type": "code",
   "execution_count": 23,
   "metadata": {
    "collapsed": false
   },
   "outputs": [
    {
     "data": {
      "text/plain": [
       "[array([[-0.07326134,  0.10881981, -0.02529788, -0.04072704,  0.04875959]], dtype=float32),\n",
       " array([[-0.12587196,  0.18593994, -0.0391391 , -0.0593419 ,  0.09171139]], dtype=float32),\n",
       " array([[-0.09905403,  0.13353604, -0.01861813, -0.01272955,  0.09385069]], dtype=float32),\n",
       " array([[-0.05724905,  0.07982526, -0.00863106,  0.02325895,  0.08229562]], dtype=float32),\n",
       " array([[-0.0744626 ,  0.12995736, -0.02473935,  0.01757095,  0.08873173]], dtype=float32)]"
      ]
     },
     "execution_count": 23,
     "metadata": {},
     "output_type": "execute_result"
    }
   ],
   "source": [
    "o1"
   ]
  },
  {
   "cell_type": "code",
   "execution_count": 24,
   "metadata": {
    "collapsed": false
   },
   "outputs": [
    {
     "data": {
      "text/plain": [
       "[LSTMStateTuple(c=array([[-0.16547431,  0.20577541, -0.04365608, -0.07370391,  0.10478324]], dtype=float32), h=array([[-0.07326134,  0.10881981, -0.02529788, -0.04072704,  0.04875959]], dtype=float32)),\n",
       " LSTMStateTuple(c=array([[-0.28525621,  0.35801736, -0.06508203, -0.10567175,  0.2056445 ]], dtype=float32), h=array([[-0.12587196,  0.18593994, -0.0391391 , -0.0593419 ,  0.09171139]], dtype=float32)),\n",
       " LSTMStateTuple(c=array([[-0.19699425,  0.26796877, -0.03451995, -0.02460403,  0.20030063]], dtype=float32), h=array([[-0.09905403,  0.13353604, -0.01861813, -0.01272955,  0.09385069]], dtype=float32)),\n",
       " LSTMStateTuple(c=array([[-0.1127521 ,  0.15863648, -0.01667928,  0.04612409,  0.17052206]], dtype=float32), h=array([[-0.05724905,  0.07982526, -0.00863106,  0.02325895,  0.08229562]], dtype=float32)),\n",
       " LSTMStateTuple(c=array([[-0.16085023,  0.24881624, -0.04404178,  0.03270273,  0.19010496]], dtype=float32), h=array([[-0.0744626 ,  0.12995736, -0.02473935,  0.01757095,  0.08873173]], dtype=float32))]"
      ]
     },
     "execution_count": 24,
     "metadata": {},
     "output_type": "execute_result"
    }
   ],
   "source": [
    "s1"
   ]
  },
  {
   "cell_type": "code",
   "execution_count": 25,
   "metadata": {
    "collapsed": false
   },
   "outputs": [
    {
     "data": {
      "text/plain": [
       "[array([[-0.72587937, -0.2983973 , -0.7004146 ,  0.20106703, -0.70973361]], dtype=float32),\n",
       " array([[-0.91679907, -0.16630068, -0.85630894, -0.06386018, -0.93637562]], dtype=float32),\n",
       " array([[-0.52485359,  0.12544559, -0.26522875, -0.21261024, -0.76199847]], dtype=float32),\n",
       " array([[-0.170678  ,  0.1929428 ,  0.11755153, -0.14186695, -0.37004018]], dtype=float32),\n",
       " array([[-0.54856217, -0.05733436, -0.37367839,  0.0634787 , -0.5495981 ]], dtype=float32)]"
      ]
     },
     "execution_count": 25,
     "metadata": {},
     "output_type": "execute_result"
    }
   ],
   "source": [
    "o2"
   ]
  },
  {
   "cell_type": "code",
   "execution_count": 27,
   "metadata": {
    "collapsed": false
   },
   "outputs": [
    {
     "data": {
      "text/plain": [
       "[array([[-0.72587937, -0.2983973 , -0.7004146 ,  0.20106703, -0.70973361]], dtype=float32),\n",
       " array([[-0.91679907, -0.16630068, -0.85630894, -0.06386018, -0.93637562]], dtype=float32),\n",
       " array([[-0.52485359,  0.12544559, -0.26522875, -0.21261024, -0.76199847]], dtype=float32),\n",
       " array([[-0.170678  ,  0.1929428 ,  0.11755153, -0.14186695, -0.37004018]], dtype=float32),\n",
       " array([[-0.54856217, -0.05733436, -0.37367839,  0.0634787 , -0.5495981 ]], dtype=float32)]"
      ]
     },
     "execution_count": 27,
     "metadata": {},
     "output_type": "execute_result"
    }
   ],
   "source": [
    "s2"
   ]
  },
  {
   "cell_type": "code",
   "execution_count": null,
   "metadata": {
    "collapsed": true
   },
   "outputs": [],
   "source": []
  }
 ],
 "metadata": {
  "kernelspec": {
   "display_name": "Python 3",
   "language": "python",
   "name": "python3"
  },
  "language_info": {
   "codemirror_mode": {
    "name": "ipython",
    "version": 3
   },
   "file_extension": ".py",
   "mimetype": "text/x-python",
   "name": "python",
   "nbconvert_exporter": "python",
   "pygments_lexer": "ipython3",
   "version": "3.5.2"
  }
 },
 "nbformat": 4,
 "nbformat_minor": 2
}
