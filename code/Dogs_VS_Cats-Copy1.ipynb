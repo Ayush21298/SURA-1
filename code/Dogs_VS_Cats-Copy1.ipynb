{
 "cells": [
  {
   "cell_type": "code",
   "execution_count": 1,
   "metadata": {
    "collapsed": true,
    "deletable": true,
    "editable": true
   },
   "outputs": [],
   "source": [
    "import tensorflow as tf\n",
    "import numpy as np\n",
    "import pandas as pd\n",
    "import random\n",
    "import scipy\n",
    "import os\n",
    "import pickle"
   ]
  },
  {
   "cell_type": "code",
   "execution_count": 2,
   "metadata": {
    "collapsed": true,
    "deletable": true,
    "editable": true
   },
   "outputs": [],
   "source": [
    "from preprocessing import inception_preprocessing"
   ]
  },
  {
   "cell_type": "code",
   "execution_count": 3,
   "metadata": {
    "collapsed": false,
    "deletable": true,
    "editable": true
   },
   "outputs": [],
   "source": [
    "import inception_base"
   ]
  },
  {
   "cell_type": "code",
   "execution_count": 4,
   "metadata": {
    "code_folding": [],
    "collapsed": false,
    "deletable": true,
    "editable": true
   },
   "outputs": [],
   "source": [
    "class Dogs_Cats_model(object):\n",
    "    def __init__(self,learning_rate=1e-3,num_classes=2,initializer_scale=0.5):     \n",
    "        self.learning_rate = learning_rate\n",
    "        self.num_classes = num_classes\n",
    "        self.initializer = tf.random_uniform_initializer(\n",
    "                                            minval=-initializer_scale,\n",
    "                                            maxval=initializer_scale)\n",
    "        # A float32 Tensor with shape [batch_size, height, width, channels].\n",
    "        self.images = None\n",
    "\n",
    "        # A float32 scalar Tensor; the total loss for the trainer to optimize.\n",
    "        self.final_loss = None\n",
    "\n",
    "        # Global step Tensor.\n",
    "        self.global_step = None\n",
    "    def build_inputs_outputs(self):\n",
    "        image_feed = tf.placeholder(dtype=tf.float32,shape=[None,299,299,3],name=\"image_feed\")\n",
    "        self.image_feed = image_feed\n",
    "        self.ground_truth = tf.placeholder(tf.float32,[None,self.num_classes])\n",
    "        \n",
    "    def build_image_embedding(self):\n",
    "        self.inception_output = inception_base.get_base_model(self.image_feed)\n",
    "        self.fine_tune_input = tf.placeholder_with_default(self.inception_output,self.inception_output.get_shape(),name=\"fine_tune_input\")\n",
    "        self.inception_variables = tf.get_collection(tf.GraphKeys.GLOBAL_VARIABLES,scope=\"InceptionV4\")\n",
    "        with tf.variable_scope(\"fine_tune_layers\") as scope:\n",
    "            self.logits = tf.contrib.layers.fully_connected(inputs=self.fine_tune_input,\n",
    "                                                          num_outputs=self.num_classes,\n",
    "                                                          activation_fn = None,\n",
    "                                                          weights_initializer=self.initializer,\n",
    "                                                    \n",
    "                                                          scope = scope)\n",
    "    def build_loss(self):\n",
    "        self.probabilities = tf.nn.softmax(self.logits,name=\"output_probs\")\n",
    "        with tf.name_scope(\"cross_entropy\") as scope:\n",
    "            loss = tf.nn.softmax_cross_entropy_with_logits(labels=self.ground_truth,logits=self.logits)\n",
    "            with tf.name_scope('total'):\n",
    "                  self.final_loss = tf.reduce_mean(loss)\n",
    "    def build_train_step(self):\n",
    "        with tf.name_scope(\"train\") as scope:\n",
    "            optimizer = tf.train.AdamOptimizer(self.learning_rate)\n",
    "            self.train_step = optimizer.minimize(self.final_loss)\n",
    "            \n",
    "    def build_eval_step(self):\n",
    "        with tf.name_scope('accuracy'):\n",
    "            with tf.name_scope('correct_prediction'):\n",
    "                prediction = tf.argmax(self.logits, 1)\n",
    "                correct_prediction = tf.equal(prediction, tf.argmax(self.ground_truth, 1))\n",
    "            with tf.name_scope('accuracy'):\n",
    "                self.accuracy = tf.reduce_mean(tf.cast(correct_prediction, tf.float32))\n",
    "    def setup_global_step(self):\n",
    "        \"\"\"Sets up the global step Tensor.\"\"\"\n",
    "        global_step = tf.Variable(\n",
    "            initial_value=0,\n",
    "            name=\"global_step\",\n",
    "            trainable=False,\n",
    "            collections=[tf.GraphKeys.GLOBAL_STEP, tf.GraphKeys.GLOBAL_VARIABLES])\n",
    "        self.global_step = global_step\n",
    "        \n",
    "    def build(self):\n",
    "        self.build_inputs_outputs()\n",
    "        self.build_image_embedding()\n",
    "        self.build_loss()\n",
    "        self.build_train_step()\n",
    "        self.build_eval_step()"
   ]
  },
  {
   "cell_type": "markdown",
   "metadata": {
    "deletable": true,
    "editable": true
   },
   "source": [
    "## Getting input from file"
   ]
  },
  {
   "cell_type": "code",
   "execution_count": 5,
   "metadata": {
    "collapsed": true,
    "deletable": true,
    "editable": true
   },
   "outputs": [],
   "source": [
    "# dict containing file_name and label\n",
    "train_name_dict = {}"
   ]
  },
  {
   "cell_type": "code",
   "execution_count": 6,
   "metadata": {
    "collapsed": true,
    "deletable": true,
    "editable": true
   },
   "outputs": [],
   "source": [
    "TRAIN_DIR_CAT = \"../ignore/kaggle_cats_and_dogs/train/cat/\""
   ]
  },
  {
   "cell_type": "code",
   "execution_count": 7,
   "metadata": {
    "collapsed": true,
    "deletable": true,
    "editable": true
   },
   "outputs": [],
   "source": [
    "TRAIN_DIR_DOG = \"../ignore/kaggle_cats_and_dogs/train/dog/\""
   ]
  },
  {
   "cell_type": "code",
   "execution_count": 97,
   "metadata": {
    "collapsed": true,
    "deletable": true,
    "editable": true
   },
   "outputs": [],
   "source": [
    "TEST_DIR = \"../ignore/kaggle_cats_and_dogs/test/\""
   ]
  },
  {
   "cell_type": "code",
   "execution_count": 9,
   "metadata": {
    "collapsed": true,
    "deletable": true,
    "editable": true
   },
   "outputs": [],
   "source": [
    "# list of np.float32 array containing the training images\n",
    "train_data_unprocessed = []\n",
    "\n",
    "# list of np.float32 array containing the test images\n",
    "test_data_unprocessed = []"
   ]
  },
  {
   "cell_type": "code",
   "execution_count": 10,
   "metadata": {
    "collapsed": false,
    "deletable": true,
    "editable": true
   },
   "outputs": [],
   "source": [
    "cats_files = [os.path.join(TRAIN_DIR_CAT,fl) for fl in os.listdir(TRAIN_DIR_CAT)]\n",
    "dogs_files = [os.path.join(TRAIN_DIR_DOG,fl) for fl in os.listdir(TRAIN_DIR_DOG)]"
   ]
  },
  {
   "cell_type": "code",
   "execution_count": 98,
   "metadata": {
    "collapsed": true,
    "deletable": true,
    "editable": true
   },
   "outputs": [],
   "source": [
    "test_files_names = os.listdir(TEST_DIR)"
   ]
  },
  {
   "cell_type": "code",
   "execution_count": 99,
   "metadata": {
    "collapsed": false
   },
   "outputs": [],
   "source": [
    "test_file_paths = [os.path.join(TEST_DIR,fl) for fl in test_files_names]"
   ]
  },
  {
   "cell_type": "code",
   "execution_count": 12,
   "metadata": {
    "collapsed": true,
    "deletable": true,
    "editable": true
   },
   "outputs": [],
   "source": [
    "bs = 50\n"
   ]
  },
  {
   "cell_type": "code",
   "execution_count": 13,
   "metadata": {
    "collapsed": true,
    "deletable": true,
    "editable": true
   },
   "outputs": [],
   "source": [
    "num_epochs = 100\n",
    "out = []\n",
    "out_labels =[]"
   ]
  },
  {
   "cell_type": "markdown",
   "metadata": {
    "deletable": true,
    "editable": true
   },
   "source": [
    "## Making model"
   ]
  },
  {
   "cell_type": "code",
   "execution_count": 14,
   "metadata": {
    "collapsed": false,
    "deletable": true,
    "editable": true
   },
   "outputs": [],
   "source": [
    "model = Dogs_Cats_model()"
   ]
  },
  {
   "cell_type": "code",
   "execution_count": 15,
   "metadata": {
    "collapsed": false,
    "deletable": true,
    "editable": true
   },
   "outputs": [],
   "source": [
    "model.build()"
   ]
  },
  {
   "cell_type": "code",
   "execution_count": 16,
   "metadata": {
    "collapsed": true,
    "deletable": true,
    "editable": true
   },
   "outputs": [],
   "source": [
    "sess = tf.Session()"
   ]
  },
  {
   "cell_type": "code",
   "execution_count": 17,
   "metadata": {
    "collapsed": true,
    "deletable": true,
    "editable": true
   },
   "outputs": [],
   "source": [
    "sess.run(tf.global_variables_initializer())"
   ]
  },
  {
   "cell_type": "code",
   "execution_count": 18,
   "metadata": {
    "collapsed": false,
    "deletable": true,
    "editable": true
   },
   "outputs": [
    {
     "name": "stdout",
     "output_type": "stream",
     "text": [
      "INFO:tensorflow:Restoring parameters from ./inception_v4.ckpt\n"
     ]
    }
   ],
   "source": [
    "saver = tf.train.Saver(var_list=model.inception_variables)\n",
    "saver.restore(sess,\"./inception_v4.ckpt\")"
   ]
  },
  {
   "cell_type": "code",
   "execution_count": 19,
   "metadata": {
    "collapsed": true,
    "deletable": true,
    "editable": true
   },
   "outputs": [
    {
     "name": "stdout",
     "output_type": "stream",
     "text": [
      "('Processed ', 0)\n",
      "('Processed ', 50)\n",
      "('Processed ', 100)\n",
      "('Processed ', 150)\n",
      "('Processed ', 200)\n",
      "('Processed ', 250)\n",
      "('Processed ', 300)\n",
      "('Processed ', 350)\n",
      "('Processed ', 400)\n",
      "('Processed ', 450)\n",
      "('Processed ', 500)\n",
      "('Processed ', 550)\n",
      "('Processed ', 600)\n",
      "('Processed ', 650)\n",
      "('Processed ', 700)\n",
      "('Processed ', 750)\n",
      "('Processed ', 800)\n",
      "('Processed ', 850)\n",
      "('Processed ', 900)\n",
      "('Processed ', 950)\n",
      "('Processed ', 1000)\n",
      "('Processed ', 1050)\n",
      "('Processed ', 1100)\n",
      "('Processed ', 1150)\n",
      "('Processed ', 1200)\n",
      "('Processed ', 1250)\n",
      "('Processed ', 1300)\n",
      "('Processed ', 1350)\n",
      "('Processed ', 1400)\n",
      "('Processed ', 1450)\n",
      "('Processed ', 1500)\n",
      "('Processed ', 1550)\n",
      "('Processed ', 1600)\n",
      "('Processed ', 1650)\n",
      "('Processed ', 1700)\n",
      "('Processed ', 1750)\n",
      "('Processed ', 1800)\n",
      "('Processed ', 1850)\n",
      "('Processed ', 1900)\n",
      "('Processed ', 1950)\n",
      "('Processed ', 2000)\n",
      "('Processed ', 2050)\n",
      "('Processed ', 2100)\n",
      "('Processed ', 2150)\n",
      "('Processed ', 2200)\n",
      "('Processed ', 2250)\n",
      "('Processed ', 2300)\n",
      "('Processed ', 2350)\n",
      "('Processed ', 2400)\n",
      "('Processed ', 2450)\n",
      "('Processed ', 2500)\n",
      "('Processed ', 2550)\n",
      "('Processed ', 2600)\n",
      "('Processed ', 2650)\n",
      "('Processed ', 2700)\n",
      "('Processed ', 2750)\n",
      "('Processed ', 2800)\n",
      "('Processed ', 2850)\n",
      "('Processed ', 2900)\n",
      "('Processed ', 2950)\n",
      "('Processed ', 3000)\n",
      "('Processed ', 3050)\n",
      "('Processed ', 3100)\n",
      "('Processed ', 3150)\n",
      "('Processed ', 3200)\n",
      "('Processed ', 3250)\n",
      "('Processed ', 3300)\n",
      "('Processed ', 3350)\n",
      "('Processed ', 3400)\n",
      "('Processed ', 3450)\n",
      "('Processed ', 3500)\n",
      "('Processed ', 3550)\n",
      "('Processed ', 3600)\n",
      "('Processed ', 3650)\n",
      "('Processed ', 3700)\n",
      "('Processed ', 3750)\n",
      "('Processed ', 3800)\n",
      "('Processed ', 3850)\n",
      "('Processed ', 3900)\n",
      "('Processed ', 3950)\n",
      "('Processed ', 4000)\n",
      "('Processed ', 4050)\n",
      "('Processed ', 4100)\n",
      "('Processed ', 4150)\n",
      "('Processed ', 4200)\n",
      "('Processed ', 4250)\n",
      "('Processed ', 4300)\n",
      "('Processed ', 4350)\n",
      "('Processed ', 4400)\n",
      "('Processed ', 4450)\n",
      "('Processed ', 4500)\n",
      "('Processed ', 4550)\n",
      "('Processed ', 4600)\n",
      "('Processed ', 4650)\n",
      "('Processed ', 4700)\n",
      "('Processed ', 4750)\n",
      "('Processed ', 4800)\n",
      "('Processed ', 4850)\n",
      "('Processed ', 4900)\n",
      "('Processed ', 4950)\n",
      "('Processed ', 5000)\n",
      "('Processed ', 5050)\n",
      "('Processed ', 5100)\n",
      "('Processed ', 5150)\n",
      "('Processed ', 5200)\n",
      "('Processed ', 5250)\n",
      "('Processed ', 5300)\n",
      "('Processed ', 5350)\n",
      "('Processed ', 5400)\n",
      "('Processed ', 5450)\n",
      "('Processed ', 5500)\n",
      "('Processed ', 5550)\n",
      "('Processed ', 5600)\n",
      "('Processed ', 5650)\n",
      "('Processed ', 5700)\n",
      "('Processed ', 5750)\n",
      "('Processed ', 5800)\n",
      "('Processed ', 5850)\n",
      "('Processed ', 5900)\n",
      "('Processed ', 5950)\n",
      "('Processed ', 6000)\n",
      "('Processed ', 6050)\n",
      "('Processed ', 6100)\n",
      "('Processed ', 6150)\n",
      "('Processed ', 6200)\n",
      "('Processed ', 6250)\n",
      "('Processed ', 6300)\n",
      "('Processed ', 6350)\n",
      "('Processed ', 6400)\n",
      "('Processed ', 6450)\n",
      "('Processed ', 6500)\n",
      "('Processed ', 6550)\n",
      "('Processed ', 6600)\n",
      "('Processed ', 6650)\n",
      "('Processed ', 6700)\n",
      "('Processed ', 6750)\n",
      "('Processed ', 6800)\n",
      "('Processed ', 6850)\n",
      "('Processed ', 6900)\n",
      "('Processed ', 6950)\n",
      "('Processed ', 7000)\n",
      "('Processed ', 7050)\n",
      "('Processed ', 7100)\n",
      "('Processed ', 7150)\n",
      "('Processed ', 7200)\n",
      "('Processed ', 7250)\n",
      "('Processed ', 7300)\n",
      "('Processed ', 7350)\n",
      "('Processed ', 7400)\n",
      "('Processed ', 7450)\n",
      "('Processed ', 7500)\n",
      "('Processed ', 7550)\n",
      "('Processed ', 7600)\n",
      "('Processed ', 7650)\n",
      "('Processed ', 7700)\n",
      "('Processed ', 7750)\n",
      "('Processed ', 7800)\n",
      "('Processed ', 7850)\n",
      "('Processed ', 7900)\n",
      "('Processed ', 7950)\n",
      "('Processed ', 8000)\n",
      "('Processed ', 8050)\n",
      "('Processed ', 8100)\n",
      "('Processed ', 8150)\n",
      "('Processed ', 8200)\n",
      "('Processed ', 8250)\n",
      "('Processed ', 8300)\n",
      "('Processed ', 8350)\n",
      "('Processed ', 8400)\n",
      "('Processed ', 8450)\n",
      "('Processed ', 8500)\n",
      "('Processed ', 8550)\n",
      "('Processed ', 8600)\n",
      "('Processed ', 8650)\n",
      "('Processed ', 8700)\n",
      "('Processed ', 8750)\n",
      "('Processed ', 8800)\n",
      "('Processed ', 8850)\n",
      "('Processed ', 8900)\n",
      "('Processed ', 8950)\n",
      "('Processed ', 9000)\n",
      "('Processed ', 9050)\n",
      "('Processed ', 9100)\n",
      "('Processed ', 9150)\n",
      "('Processed ', 9200)\n",
      "('Processed ', 9250)\n",
      "('Processed ', 9300)\n",
      "('Processed ', 9350)\n",
      "('Processed ', 9400)\n",
      "('Processed ', 9450)\n",
      "('Processed ', 9500)\n",
      "('Processed ', 9550)\n",
      "('Processed ', 9600)\n",
      "('Processed ', 9650)\n",
      "('Processed ', 9700)\n",
      "('Processed ', 9750)\n",
      "('Processed ', 9800)\n",
      "('Processed ', 9850)\n",
      "('Processed ', 9900)\n",
      "('Processed ', 9950)\n",
      "('Processed ', 10000)\n",
      "('Processed ', 10050)\n",
      "('Processed ', 10100)\n",
      "('Processed ', 10150)\n",
      "('Processed ', 10200)\n",
      "('Processed ', 10250)\n",
      "('Processed ', 10300)\n",
      "('Processed ', 10350)\n",
      "('Processed ', 10400)\n",
      "('Processed ', 10450)\n",
      "('Processed ', 10500)\n",
      "('Processed ', 10550)\n",
      "('Processed ', 10600)\n",
      "('Processed ', 10650)\n",
      "('Processed ', 10700)\n",
      "('Processed ', 10750)\n",
      "('Processed ', 10800)\n",
      "('Processed ', 10850)\n",
      "('Processed ', 10900)\n",
      "('Processed ', 10950)\n",
      "('Processed ', 11000)\n",
      "('Processed ', 11050)\n",
      "('Processed ', 11100)\n",
      "('Processed ', 11150)\n",
      "('Processed ', 11200)\n",
      "('Processed ', 11250)\n",
      "('Processed ', 11300)\n",
      "('Processed ', 11350)\n",
      "('Processed ', 11400)\n",
      "('Processed ', 11450)\n",
      "('Processed ', 11500)\n",
      "('Processed ', 11550)\n",
      "('Processed ', 11600)\n",
      "('Processed ', 11650)\n",
      "('Processed ', 11700)\n",
      "('Processed ', 11750)\n",
      "('Processed ', 11800)\n",
      "('Processed ', 11850)\n",
      "('Processed ', 11900)\n",
      "('Processed ', 11950)\n",
      "('Processed ', 12000)\n",
      "('Processed ', 12050)\n",
      "('Processed ', 12100)\n",
      "('Processed ', 12150)\n",
      "('Processed ', 12200)\n",
      "('Processed ', 12250)\n",
      "('Processed ', 12300)\n",
      "('Processed ', 12350)\n",
      "('Processed ', 12400)\n",
      "('Processed ', 12450)\n"
     ]
    }
   ],
   "source": [
    "for start, end in zip(range(0, len(cats_files)+1, bs),range(49, len(cats_files)+1, bs)):\n",
    "        cat_batch = [scipy.ndimage.imread(fl) for fl in cats_files[start:end]]\n",
    "        dog_batch = [scipy.ndimage.imread(fl) for fl in dogs_files[start:end]]\n",
    "        cat_batch_resized = [scipy.misc.imresize(cat,[299,299,3]) for cat in cat_batch]\n",
    "        dog_batch_resized = [scipy.misc.imresize(dog,[299,299,3]) for dog in dog_batch]\n",
    "        cat_batch_processed = [((2*(cat.astype(np.float32) / 255 ))-1) for cat in cat_batch_resized]\n",
    "        dog_batch_processed = [((2*(dog.astype(np.float32) / 255 ))-1) for dog in dog_batch_resized]\n",
    "        train_data_cat = [(cat,0) for cat in cat_batch_processed]\n",
    "        train_data_dog = [(dog,1) for dog in dog_batch_processed]\n",
    "        train_data_processed=[]\n",
    "        for cat in train_data_cat:train_data_processed.append(cat) \n",
    "        for dog in train_data_dog:train_data_processed.append(dog)\n",
    "        random.shuffle(train_data_processed)\n",
    "        train_data = [t[0] for t in train_data_processed]\n",
    "        train_labels = [t[1] for t in train_data_processed]\n",
    "        train_labels_tuples = np.array([[1,0] if x==0 else [0,1] for x in train_labels])\n",
    "        train_data_np = np.array(train_data)\n",
    "        out.append(sess.run(model.inception_output,feed_dict={model.image_feed:train_data_np}))\n",
    "        out_labels.append(train_labels_tuples)\n",
    "        print(\"Processed \", start)"
   ]
  },
  {
   "cell_type": "code",
   "execution_count": 24,
   "metadata": {
    "collapsed": true
   },
   "outputs": [],
   "source": []
  },
  {
   "cell_type": "code",
   "execution_count": 26,
   "metadata": {
    "collapsed": false
   },
   "outputs": [],
   "source": [
    "pickle.dump( out, open( \"output_inception.p\", \"wb\" ) )\n",
    "pickle.dump( out_labels, open( \"output_labels.p\", \"wb\" ) )"
   ]
  },
  {
   "cell_type": "code",
   "execution_count": 27,
   "metadata": {
    "collapsed": true
   },
   "outputs": [],
   "source": [
    "np.save(\"./output_inception_numpy.npy\",out)\n",
    "np.save(\"./output_labels_numpy.npy\",out_labels)"
   ]
  },
  {
   "cell_type": "code",
   "execution_count": 30,
   "metadata": {
    "collapsed": true
   },
   "outputs": [
    {
     "name": "stdout",
     "output_type": "stream",
     "text": [
      "('Epoch- ', 0, 'Loss = ', 2.4434081e-05)\n",
      "('Epoch- ', 1, 'Loss = ', 2.325998e-05)\n",
      "('Epoch- ', 2, 'Loss = ', 2.2037253e-05)\n",
      "('Epoch- ', 3, 'Loss = ', 2.0785295e-05)\n",
      "('Epoch- ', 4, 'Loss = ', 1.9525956e-05)\n",
      "('Epoch- ', 5, 'Loss = ', 1.8270144e-05)\n",
      "('Epoch- ', 6, 'Loss = ', 1.7028793e-05)\n",
      "('Epoch- ', 7, 'Loss = ', 1.5815254e-05)\n",
      "('Epoch- ', 8, 'Loss = ', 1.4639259e-05)\n",
      "('Epoch- ', 9, 'Loss = ', 1.3509318e-05)\n",
      "('Epoch- ', 10, 'Loss = ', 1.2433952e-05)\n",
      "('Epoch- ', 11, 'Loss = ', 1.1420463e-05)\n",
      "('Epoch- ', 12, 'Loss = ', 1.0471298e-05)\n",
      "('Epoch- ', 13, 'Loss = ', 9.5937703e-06)\n",
      "('Epoch- ', 14, 'Loss = ', 8.785466e-06)\n",
      "('Epoch- ', 15, 'Loss = ', 8.0403152e-06)\n",
      "('Epoch- ', 16, 'Loss = ', 7.3522574e-06)\n",
      "('Epoch- ', 17, 'Loss = ', 6.7188703e-06)\n",
      "('Epoch- ', 18, 'Loss = ', 6.1280039e-06)\n",
      "('Epoch- ', 19, 'Loss = ', 5.5760174e-06)\n",
      "('Epoch- ', 20, 'Loss = ', 5.058052e-06)\n",
      "('Epoch- ', 21, 'Loss = ', 4.5728962e-06)\n",
      "('Epoch- ', 22, 'Loss = ', 4.1169046e-06)\n",
      "('Epoch- ', 23, 'Loss = ', 3.6888632e-06)\n",
      "('Epoch- ', 24, 'Loss = ', 3.2972916e-06)\n",
      "('Epoch- ', 25, 'Loss = ', 2.9336763e-06)\n",
      "('Epoch- ', 26, 'Loss = ', 2.6028861e-06)\n",
      "('Epoch- ', 27, 'Loss = ', 2.3024909e-06)\n",
      "('Epoch- ', 28, 'Loss = ', 2.0337097e-06)\n",
      "('Epoch- ', 29, 'Loss = ', 1.7965442e-06)\n",
      "('Epoch- ', 30, 'Loss = ', 1.5873477e-06)\n",
      "('Epoch- ', 31, 'Loss = ', 1.4085545e-06)\n",
      "('Epoch- ', 32, 'Loss = ', 1.2553006e-06)\n",
      "('Epoch- ', 33, 'Loss = ', 1.1251547e-06)\n",
      "('Epoch- ', 34, 'Loss = ', 1.0144682e-06)\n",
      "('Epoch- ', 35, 'Loss = ', 9.2445862e-07)\n",
      "('Epoch- ', 36, 'Loss = ', 8.4782818e-07)\n",
      "('Epoch- ', 37, 'Loss = ', 7.8579342e-07)\n",
      "('Epoch- ', 38, 'Loss = ', 7.2984022e-07)\n",
      "('Epoch- ', 39, 'Loss = ', 6.8605061e-07)\n",
      "('Epoch- ', 40, 'Loss = ', 6.4590984e-07)\n",
      "('Epoch- ', 41, 'Loss = ', 6.0941818e-07)\n",
      "('Epoch- ', 42, 'Loss = ', 5.7535931e-07)\n",
      "('Epoch- ', 43, 'Loss = ', 5.4738223e-07)\n",
      "('Epoch- ', 44, 'Loss = ', 5.1940521e-07)\n",
      "('Epoch- ', 45, 'Loss = ', 4.9264457e-07)\n",
      "('Epoch- ', 46, 'Loss = ', 4.6710022e-07)\n",
      "('Epoch- ', 47, 'Loss = ', 4.452051e-07)\n",
      "('Epoch- ', 48, 'Loss = ', 4.2209356e-07)\n",
      "('Epoch- ', 49, 'Loss = ', 4.0019842e-07)\n",
      "('Epoch- ', 50, 'Loss = ', 3.8073603e-07)\n",
      "('Epoch- ', 51, 'Loss = ', 3.6005724e-07)\n",
      "('Epoch- ', 52, 'Loss = ', 3.4181124e-07)\n",
      "('Epoch- ', 53, 'Loss = ', 3.2478164e-07)\n",
      "('Epoch- ', 54, 'Loss = ', 3.07752e-07)\n",
      "('Epoch- ', 55, 'Loss = ', 2.9193876e-07)\n",
      "('Epoch- ', 56, 'Loss = ', 2.7855833e-07)\n",
      "('Epoch- ', 57, 'Loss = ', 2.6761069e-07)\n",
      "('Epoch- ', 58, 'Loss = ', 2.5666299e-07)\n",
      "('Epoch- ', 59, 'Loss = ', 2.4693171e-07)\n",
      "('Epoch- ', 60, 'Loss = ', 2.3476765e-07)\n",
      "('Epoch- ', 61, 'Loss = ', 2.1530521e-07)\n",
      "('Epoch- ', 62, 'Loss = ', 1.897607e-07)\n",
      "('Epoch- ', 63, 'Loss = ', 1.6543258e-07)\n",
      "('Epoch- ', 64, 'Loss = ', 9.8039368e-07)\n",
      "('Epoch- ', 65, 'Loss = ', 1.9462651e-07)\n",
      "('Epoch- ', 66, 'Loss = ', 1.8854445e-07)\n",
      "('Epoch- ', 67, 'Loss = ', 1.7516395e-07)\n",
      "('Epoch- ', 68, 'Loss = ', 1.6421623e-07)\n",
      "('Epoch- ', 69, 'Loss = ', 1.5691776e-07)\n",
      "('Epoch- ', 70, 'Loss = ', 1.4961928e-07)\n",
      "('Epoch- ', 71, 'Loss = ', 1.4597003e-07)\n",
      "('Epoch- ', 72, 'Loss = ', 1.4353719e-07)\n",
      "('Epoch- ', 73, 'Loss = ', 1.4110435e-07)\n",
      "('Epoch- ', 74, 'Loss = ', 1.4110435e-07)\n",
      "('Epoch- ', 75, 'Loss = ', 1.3988793e-07)\n",
      "('Epoch- ', 76, 'Loss = ', 1.374551e-07)\n",
      "('Epoch- ', 77, 'Loss = ', 1.3258945e-07)\n",
      "('Epoch- ', 78, 'Loss = ', 1.2407456e-07)\n",
      "('Epoch- ', 79, 'Loss = ', 9.3664212e-08)\n",
      "('Epoch- ', 80, 'Loss = ', 4.573655e-07)\n",
      "('Epoch- ', 81, 'Loss = ', 2.0679025e-07)\n",
      "('Epoch- ', 82, 'Loss = ', 1.508356e-07)\n",
      "('Epoch- ', 83, 'Loss = ', 1.2407459e-07)\n",
      "('Epoch- ', 84, 'Loss = ', 1.0947763e-07)\n",
      "('Epoch- ', 85, 'Loss = ', 1.0096274e-07)\n",
      "('Epoch- ', 86, 'Loss = ', 9.6097068e-08)\n",
      "('Epoch- ', 87, 'Loss = ', 9.1231414e-08)\n",
      "('Epoch- ', 88, 'Loss = ', 8.8798579e-08)\n",
      "('Epoch- ', 89, 'Loss = ', 8.5149324e-08)\n",
      "('Epoch- ', 90, 'Loss = ', 8.1500076e-08)\n",
      "('Epoch- ', 91, 'Loss = ', 7.5417987e-08)\n",
      "('Epoch- ', 92, 'Loss = ', 7.2985145e-08)\n",
      "('Epoch- ', 93, 'Loss = ', 6.2037394e-08)\n",
      "('Epoch- ', 94, 'Loss = ', 5.9604563e-08)\n",
      "('Epoch- ', 95, 'Loss = ', 5.4738891e-08)\n",
      "('Epoch- ', 96, 'Loss = ', 4.9873215e-08)\n",
      "('Epoch- ', 97, 'Loss = ', 4.9873215e-08)\n",
      "('Epoch- ', 98, 'Loss = ', 4.9873215e-08)\n",
      "('Epoch- ', 99, 'Loss = ', 4.9873215e-08)\n"
     ]
    }
   ],
   "source": [
    "for tt in xrange(num_epochs):\n",
    "    for i in range(len(out)):\n",
    "        _,loss = sess.run([model.train_step,model.final_loss],feed_dict={model.fine_tune_input:out[i],model.ground_truth:out_labels[i]})\n",
    "    print(\"Epoch- \", tt , \"Loss = \",loss)"
   ]
  },
  {
   "cell_type": "code",
   "execution_count": 100,
   "metadata": {
    "collapsed": true
   },
   "outputs": [],
   "source": [
    "preds = {}"
   ]
  },
  {
   "cell_type": "code",
   "execution_count": 101,
   "metadata": {
    "collapsed": false,
    "deletable": true,
    "editable": true
   },
   "outputs": [
    {
     "name": "stdout",
     "output_type": "stream",
     "text": [
      "('indices ', 0, ' end - ', 100)\n",
      "('indices ', 100, ' end - ', 200)\n",
      "('indices ', 200, ' end - ', 300)\n",
      "('indices ', 300, ' end - ', 400)\n",
      "('indices ', 400, ' end - ', 500)\n",
      "('indices ', 500, ' end - ', 600)\n",
      "('indices ', 600, ' end - ', 700)\n",
      "('indices ', 700, ' end - ', 800)\n",
      "('indices ', 800, ' end - ', 900)\n",
      "('indices ', 900, ' end - ', 1000)\n",
      "('indices ', 1000, ' end - ', 1100)\n",
      "('indices ', 1100, ' end - ', 1200)\n",
      "('indices ', 1200, ' end - ', 1300)\n",
      "('indices ', 1300, ' end - ', 1400)\n",
      "('indices ', 1400, ' end - ', 1500)\n",
      "('indices ', 1500, ' end - ', 1600)\n",
      "('indices ', 1600, ' end - ', 1700)\n",
      "('indices ', 1700, ' end - ', 1800)\n",
      "('indices ', 1800, ' end - ', 1900)\n",
      "('indices ', 1900, ' end - ', 2000)\n",
      "('indices ', 2000, ' end - ', 2100)\n",
      "('indices ', 2100, ' end - ', 2200)\n",
      "('indices ', 2200, ' end - ', 2300)\n",
      "('indices ', 2300, ' end - ', 2400)\n",
      "('indices ', 2400, ' end - ', 2500)\n",
      "('indices ', 2500, ' end - ', 2600)\n",
      "('indices ', 2600, ' end - ', 2700)\n",
      "('indices ', 2700, ' end - ', 2800)\n",
      "('indices ', 2800, ' end - ', 2900)\n",
      "('indices ', 2900, ' end - ', 3000)\n",
      "('indices ', 3000, ' end - ', 3100)\n",
      "('indices ', 3100, ' end - ', 3200)\n",
      "('indices ', 3200, ' end - ', 3300)\n",
      "('indices ', 3300, ' end - ', 3400)\n",
      "('indices ', 3400, ' end - ', 3500)\n",
      "('indices ', 3500, ' end - ', 3600)\n",
      "('indices ', 3600, ' end - ', 3700)\n",
      "('indices ', 3700, ' end - ', 3800)\n",
      "('indices ', 3800, ' end - ', 3900)\n",
      "('indices ', 3900, ' end - ', 4000)\n",
      "('indices ', 4000, ' end - ', 4100)\n",
      "('indices ', 4100, ' end - ', 4200)\n",
      "('indices ', 4200, ' end - ', 4300)\n",
      "('indices ', 4300, ' end - ', 4400)\n",
      "('indices ', 4400, ' end - ', 4500)\n",
      "('indices ', 4500, ' end - ', 4600)\n",
      "('indices ', 4600, ' end - ', 4700)\n",
      "('indices ', 4700, ' end - ', 4800)\n",
      "('indices ', 4800, ' end - ', 4900)\n",
      "('indices ', 4900, ' end - ', 5000)\n",
      "('indices ', 5000, ' end - ', 5100)\n",
      "('indices ', 5100, ' end - ', 5200)\n",
      "('indices ', 5200, ' end - ', 5300)\n",
      "('indices ', 5300, ' end - ', 5400)\n",
      "('indices ', 5400, ' end - ', 5500)\n",
      "('indices ', 5500, ' end - ', 5600)\n",
      "('indices ', 5600, ' end - ', 5700)\n",
      "('indices ', 5700, ' end - ', 5800)\n",
      "('indices ', 5800, ' end - ', 5900)\n",
      "('indices ', 5900, ' end - ', 6000)\n",
      "('indices ', 6000, ' end - ', 6100)\n",
      "('indices ', 6100, ' end - ', 6200)\n",
      "('indices ', 6200, ' end - ', 6300)\n",
      "('indices ', 6300, ' end - ', 6400)\n",
      "('indices ', 6400, ' end - ', 6500)\n",
      "('indices ', 6500, ' end - ', 6600)\n",
      "('indices ', 6600, ' end - ', 6700)\n",
      "('indices ', 6700, ' end - ', 6800)\n",
      "('indices ', 6800, ' end - ', 6900)\n",
      "('indices ', 6900, ' end - ', 7000)\n",
      "('indices ', 7000, ' end - ', 7100)\n",
      "('indices ', 7100, ' end - ', 7200)\n",
      "('indices ', 7200, ' end - ', 7300)\n",
      "('indices ', 7300, ' end - ', 7400)\n",
      "('indices ', 7400, ' end - ', 7500)\n",
      "('indices ', 7500, ' end - ', 7600)\n",
      "('indices ', 7600, ' end - ', 7700)\n",
      "('indices ', 7700, ' end - ', 7800)\n",
      "('indices ', 7800, ' end - ', 7900)\n",
      "('indices ', 7900, ' end - ', 8000)\n",
      "('indices ', 8000, ' end - ', 8100)\n",
      "('indices ', 8100, ' end - ', 8200)\n",
      "('indices ', 8200, ' end - ', 8300)\n",
      "('indices ', 8300, ' end - ', 8400)\n",
      "('indices ', 8400, ' end - ', 8500)\n",
      "('indices ', 8500, ' end - ', 8600)\n",
      "('indices ', 8600, ' end - ', 8700)\n",
      "('indices ', 8700, ' end - ', 8800)\n",
      "('indices ', 8800, ' end - ', 8900)\n",
      "('indices ', 8900, ' end - ', 9000)\n",
      "('indices ', 9000, ' end - ', 9100)\n",
      "('indices ', 9100, ' end - ', 9200)\n",
      "('indices ', 9200, ' end - ', 9300)\n",
      "('indices ', 9300, ' end - ', 9400)\n",
      "('indices ', 9400, ' end - ', 9500)\n",
      "('indices ', 9500, ' end - ', 9600)\n",
      "('indices ', 9600, ' end - ', 9700)\n",
      "('indices ', 9700, ' end - ', 9800)\n",
      "('indices ', 9800, ' end - ', 9900)\n",
      "('indices ', 9900, ' end - ', 10000)\n",
      "('indices ', 10000, ' end - ', 10100)\n",
      "('indices ', 10100, ' end - ', 10200)\n",
      "('indices ', 10200, ' end - ', 10300)\n",
      "('indices ', 10300, ' end - ', 10400)\n",
      "('indices ', 10400, ' end - ', 10500)\n",
      "('indices ', 10500, ' end - ', 10600)\n",
      "('indices ', 10600, ' end - ', 10700)\n",
      "('indices ', 10700, ' end - ', 10800)\n",
      "('indices ', 10800, ' end - ', 10900)\n",
      "('indices ', 10900, ' end - ', 11000)\n",
      "('indices ', 11000, ' end - ', 11100)\n",
      "('indices ', 11100, ' end - ', 11200)\n",
      "('indices ', 11200, ' end - ', 11300)\n",
      "('indices ', 11300, ' end - ', 11400)\n",
      "('indices ', 11400, ' end - ', 11500)\n",
      "('indices ', 11500, ' end - ', 11600)\n",
      "('indices ', 11600, ' end - ', 11700)\n",
      "('indices ', 11700, ' end - ', 11800)\n",
      "('indices ', 11800, ' end - ', 11900)\n",
      "('indices ', 11900, ' end - ', 12000)\n",
      "('indices ', 12000, ' end - ', 12100)\n",
      "('indices ', 12100, ' end - ', 12200)\n",
      "('indices ', 12200, ' end - ', 12300)\n",
      "('indices ', 12300, ' end - ', 12400)\n",
      "('indices ', 12400, ' end - ', 12500)\n"
     ]
    }
   ],
   "source": [
    "for start, end in zip(range(0, len(test_file_paths)-1,100),range(100, len(test_file_paths)+1,100)):\n",
    "    test_batch = [scipy.ndimage.imread(fl) for fl in test_file_paths[start:end]]\n",
    "    test_batch_resized = [scipy.misc.imresize(tst,[299,299,3]) for tst in test_batch]\n",
    "    test_batch_processed = [((2*(tst.astype(np.float32) / 255 ))-1) for tst in test_batch_resized]\n",
    "    train_data_np = np.array(test_batch_processed)\n",
    "    out = sess.run(model.inception_output,feed_dict={model.image_feed:train_data_np})\n",
    "    pred = sess.run(model.probabilities,feed_dict={model.fine_tune_input:out})\n",
    "    pred_dog = [p[1] for p in pred]\n",
    "    for i in range(start,end):\n",
    "        preds[test_files_names[i]] = pred_dog[i-start]\n",
    "    print(\"indices \", start , \" end - \", end)\n",
    "    "
   ]
  },
  {
   "cell_type": "code",
   "execution_count": 82,
   "metadata": {
    "collapsed": false
   },
   "outputs": [],
   "source": [
    "pred_clipped = [np.clip()]"
   ]
  },
  {
   "cell_type": "code",
   "execution_count": 86,
   "metadata": {
    "collapsed": false
   },
   "outputs": [
    {
     "data": {
      "text/plain": [
       "1"
      ]
     },
     "execution_count": 86,
     "metadata": {},
     "output_type": "execute_result"
    }
   ],
   "source": [
    "preds['1.jpg']"
   ]
  },
  {
   "cell_type": "code",
   "execution_count": 105,
   "metadata": {
    "collapsed": false
   },
   "outputs": [],
   "source": [
    "with open(\"kaggle_dogs_cats_prediction.csv\",\"w\") as fl:\n",
    "    fl.write(\"id,label\\n\")\n",
    "    for i in range(12500):\n",
    "        fl.write(str(i+1)+\",\"+str(np.clip(preds[str(i+1)+\".jpg\"],0.03,0.97))+\"\\n\")"
   ]
  },
  {
   "cell_type": "code",
   "execution_count": 91,
   "metadata": {
    "collapsed": true
   },
   "outputs": [],
   "source": [
    "x = [np.array([1,i]) for i in range(10)]"
   ]
  },
  {
   "cell_type": "code",
   "execution_count": 92,
   "metadata": {
    "collapsed": true
   },
   "outputs": [],
   "source": [
    "t = np.array(x)"
   ]
  },
  {
   "cell_type": "code",
   "execution_count": 95,
   "metadata": {
    "collapsed": false
   },
   "outputs": [],
   "source": [
    "v = [s[1] for s in t]"
   ]
  },
  {
   "cell_type": "code",
   "execution_count": 96,
   "metadata": {
    "collapsed": false
   },
   "outputs": [
    {
     "data": {
      "text/plain": [
       "[0, 1, 2, 3, 4, 5, 6, 7, 8, 9]"
      ]
     },
     "execution_count": 96,
     "metadata": {},
     "output_type": "execute_result"
    }
   ],
   "source": [
    "v"
   ]
  },
  {
   "cell_type": "code",
   "execution_count": null,
   "metadata": {
    "collapsed": true
   },
   "outputs": [],
   "source": []
  }
 ],
 "metadata": {
  "kernelspec": {
   "display_name": "Python 2",
   "language": "python",
   "name": "python2"
  },
  "language_info": {
   "codemirror_mode": {
    "name": "ipython",
    "version": 2
   },
   "file_extension": ".py",
   "mimetype": "text/x-python",
   "name": "python",
   "nbconvert_exporter": "python",
   "pygments_lexer": "ipython2",
   "version": "2.7.12"
  }
 },
 "nbformat": 4,
 "nbformat_minor": 2
}
