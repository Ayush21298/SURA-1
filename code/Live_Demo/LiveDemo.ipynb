{
 "cells": [
  {
   "cell_type": "code",
   "execution_count": 1,
   "metadata": {
    "collapsed": true,
    "deletable": true,
    "editable": true
   },
   "outputs": [],
   "source": [
    "import pyttsx3\n",
    "engine = pyttsx3.init()\n",
    "engine.setProperty('rate',200)  #250 words per minute\n",
    "engine.setProperty('volume',0.9) \n",
    "engine.say(\"Hello this is me talking\")\n",
    "engine.runAndWait()"
   ]
  },
  {
   "cell_type": "code",
   "execution_count": 2,
   "metadata": {
    "collapsed": true,
    "deletable": true,
    "editable": true
   },
   "outputs": [],
   "source": [
    "from __future__ import print_function\n",
    "from __future__ import division\n",
    "from __future__ import absolute_import\n",
    "\n",
    "import cv2\n",
    "import os\n",
    "import pysrt\n",
    "import sys\n",
    "import argparse\n",
    "import numpy as np\n",
    "import time\n",
    "import threading\n",
    "\n",
    "import tensorflow as tf\n",
    "\n",
    "from scipy import misc\n",
    "\n",
    "from inference_util import Inference\n",
    "from model import Caption_Model\n",
    "import inception_base\n",
    "import configuration\n",
    "from data_generator import Data_Generator"
   ]
  },
  {
   "cell_type": "code",
   "execution_count": 3,
   "metadata": {
    "collapsed": true,
    "deletable": true,
    "editable": true
   },
   "outputs": [],
   "source": [
    "POOL_SIZE=60"
   ]
  },
  {
   "cell_type": "code",
   "execution_count": 4,
   "metadata": {
    "collapsed": true,
    "deletable": true,
    "editable": true
   },
   "outputs": [],
   "source": [
    "model_checkpoint = \"./new_models/model-12180\"\n",
    "inception_checkpoint = \"../../dataset/inception_v4.ckpt\"\n",
    "max_cap_len = 20\n",
    "beam_size = 3"
   ]
  },
  {
   "cell_type": "code",
   "execution_count": 5,
   "metadata": {
    "collapsed": true,
    "deletable": true,
    "editable": true
   },
   "outputs": [],
   "source": [
    "data_config = configuration.DataConfig().config\n",
    "data_gen = Data_Generator(processed_video_dir = data_config[\"processed_video_dir\"],\n",
    "                        caption_file = data_config[\"caption_file\"],\n",
    "                        unique_freq_cutoff = data_config[\"unique_frequency_cutoff\"],\n",
    "                        max_caption_len = data_config[\"max_caption_length\"])\n",
    "data_gen.load_vocabulary(data_config[\"caption_data_dir\"])\n",
    "data_gen.load_dataset(data_config[\"caption_data_dir\"])\n",
    "\n",
    "model_config = configuration.ModelConfig(data_gen).config\n",
    "model = Caption_Model( num_frames = POOL_SIZE,\n",
    "                    image_width = model_config[\"image_width\"],\n",
    "                    image_height = model_config[\"image_height\"],\n",
    "                    image_channels = model_config[\"image_channels\"],\n",
    "                    num_caption_unroll = model_config[\"num_caption_unroll\"],\n",
    "                    num_last_layer_units = model_config[\"num_last_layer_units\"],\n",
    "                    image_embedding_size = model_config[\"image_embedding_size\"],\n",
    "                    word_embedding_size = model_config[\"word_embedding_size\"],\n",
    "                    hidden_size_lstm = model_config[\"hidden_size_lstm\"],\n",
    "                    num_lstm_layer = model_config[\"num_lstm_layer\"],\n",
    "                    vocab_size = model_config[\"vocab_size\"],\n",
    "                    initializer_scale = model_config[\"initializer_scale\"],\n",
    "                    learning_rate = model_config[\"learning_rate\"],\n",
    "                    mode=\"inference\",\n",
    "                    rnn1_input_keep_prob=model_config[\"rnn1_input_keep_prob\"],\n",
    "                    rnn1_output_keep_prob=model_config[\"rnn1_output_keep_prob\"],\n",
    "                    rnn2_input_keep_prob=model_config[\"rnn2_input_keep_prob\"],\n",
    "                    rnn2_output_keep_prob=model_config[\"rnn2_output_keep_prob\"],\n",
    "                    embedding_file = model_config[\"embedding_file\"]\n",
    "                    )"
   ]
  },
  {
   "cell_type": "code",
   "execution_count": 6,
   "metadata": {
    "collapsed": true,
    "deletable": true,
    "editable": true
   },
   "outputs": [],
   "source": [
    "model_graph = tf.Graph()\n",
    "inception_graph = tf.Graph()"
   ]
  },
  {
   "cell_type": "code",
   "execution_count": 7,
   "metadata": {
    "collapsed": false,
    "deletable": true,
    "editable": true
   },
   "outputs": [
    {
     "name": "stdout",
     "output_type": "stream",
     "text": [
      "[<tf.Variable 'embedding/spc_embedding:0' shape=(4, 300) dtype=float32_ref>, <tf.Variable 'embedding/glove_embedding:0' shape=(12905, 300) dtype=float32_ref>, <tf.Variable 'RNN_1/rnn/multi_rnn_cell/cell_0/basic_lstm_cell/kernel:0' shape=(2536, 4000) dtype=float32_ref>, <tf.Variable 'RNN_1/rnn/multi_rnn_cell/cell_0/basic_lstm_cell/bias:0' shape=(4000,) dtype=float32_ref>, <tf.Variable 'RNN_2/rnn/multi_rnn_cell/cell_0/basic_lstm_cell/kernel:0' shape=(1300, 4000) dtype=float32_ref>, <tf.Variable 'RNN_2/rnn/multi_rnn_cell/cell_0/basic_lstm_cell/bias:0' shape=(4000,) dtype=float32_ref>, <tf.Variable 'word_decoding/weights:0' shape=(1000, 12909) dtype=float32_ref>, <tf.Variable 'word_decoding/biases:0' shape=(12909,) dtype=float32_ref>]\n",
      "INFO:tensorflow:Restoring parameters from ./new_models/model-12180\n"
     ]
    }
   ],
   "source": [
    "with model_graph.as_default() as g:\n",
    "    config = tf.ConfigProto()\n",
    "    config.gpu_options.allow_growth=True\n",
    "    model_sess = tf.Session(config=config)\n",
    "    model.build()\n",
    "    saver = tf.train.Saver(var_list=tf.trainable_variables())\n",
    "    print(tf.trainable_variables())\n",
    "    saver.restore(model_sess,model_checkpoint)"
   ]
  },
  {
   "cell_type": "code",
   "execution_count": 8,
   "metadata": {
    "collapsed": false,
    "deletable": true,
    "editable": true
   },
   "outputs": [
    {
     "name": "stdout",
     "output_type": "stream",
     "text": [
      "INFO:tensorflow:Restoring parameters from ../../dataset/inception_v4.ckpt\n"
     ]
    }
   ],
   "source": [
    "with inception_graph.as_default():\n",
    "    config = tf.ConfigProto()\n",
    "    config.gpu_options.allow_growth=True\n",
    "    inception_sess = tf.Session(config=config)\n",
    "    image_feed = tf.placeholder(dtype=tf.float32,shape=[None,299,299,3],name=\"image_feed\")\n",
    "    inception_output = inception_base.get_base_model(image_feed)\n",
    "    inception_variables = tf.get_collection(tf.GraphKeys.GLOBAL_VARIABLES,scope=\"InceptionV4\")\n",
    "    saver = tf.train.Saver(var_list=inception_variables)\n",
    "    saver.restore(inception_sess,inception_checkpoint)"
   ]
  },
  {
   "cell_type": "code",
   "execution_count": 9,
   "metadata": {
    "collapsed": true,
    "deletable": true,
    "editable": true
   },
   "outputs": [],
   "source": [
    "infer_util = Inference(model,data_gen.word_to_idx,data_gen.idx_to_word)"
   ]
  },
  {
   "cell_type": "code",
   "execution_count": 10,
   "metadata": {
    "collapsed": true,
    "deletable": true,
    "editable": true
   },
   "outputs": [],
   "source": [
    "def generate_captions(processed_video):\n",
    "    start_time = time.time()\n",
    "    with inception_graph.as_default():\n",
    "        inception_processed_frame = inception_sess.run(inception_output,feed_dict={image_feed:processed_video})\n",
    "    incep_time = time.time()\n",
    "    with model_graph.as_default():\n",
    "        embedded_frames = np.expand_dims(inception_processed_frame,0)\n",
    "        if beam_size==1:\n",
    "            caption_batch = infer_util.generate_caption_batch(model_sess,embedded_frames,max_len=max_cap_len)\n",
    "        else:\n",
    "            caption_batch = infer_util.generate_caption_batch_beam(model_sess,beam_size,embedded_frames,max_len=max_cap_len)\n",
    "    end_time = time.time()\n",
    "    caption_generated=\"\"\n",
    "    for cap in caption_batch[0]:\n",
    "        caption_generated += cap[1]+\", \"\n",
    "    print(caption_generated)\n",
    "    engine.say(caption_batch[0][0][1])\n",
    "    engine.runAndWait()"
   ]
  },
  {
   "cell_type": "code",
   "execution_count": 11,
   "metadata": {
    "collapsed": true,
    "deletable": true,
    "editable": true
   },
   "outputs": [],
   "source": [
    "def show_webcam(mirror=False):\n",
    "    cam = cv2.VideoCapture(0)\n",
    "    start_time = time.time()\n",
    "    pool_frames=[]\n",
    "    while True:\n",
    "        ret_val, frame = cam.read()\n",
    "        if mirror:\n",
    "            frame = cv2.flip(frame, 1)\n",
    "        cv2.imshow('my webcam 2', frame)\n",
    "        frame = cv2.cvtColor(frame, cv2.COLOR_BGR2RGB)\n",
    "        frame = misc.imresize(frame,[299,299,3])\n",
    "        frame = ((2*(frame.astype(np.float32) / 255 ))-1)\n",
    "        pool_frames.append(frame)\n",
    "        if len(pool_frames) == POOL_SIZE:\n",
    "            temp_pool = pool_frames\n",
    "            processed_video = pool_frames\n",
    "            pool_frames = []\n",
    "            t = threading.Thread(generate_captions(temp_pool))\n",
    "            t.start()\n",
    "        cv2.imshow('my webcam', frame)\n",
    "        if cv2.waitKey(1) == 27: \n",
    "            break  # esc to quit\n",
    "    cv2.destroyAllWindows()\n",
    "\n",
    "def main():\n",
    "    show_webcam(mirror=False)\n"
   ]
  },
  {
   "cell_type": "code",
   "execution_count": 13,
   "metadata": {
    "collapsed": false,
    "deletable": true,
    "editable": true
   },
   "outputs": [
    {
     "name": "stdout",
     "output_type": "stream",
     "text": [
      "a man is talking to a camera, a man is talking to a man in a room, a man is talking to a man, \n",
      "a man is talking to a man in a room, a man is talking, a man is talking to a man, \n",
      "a man is talking to a man in a room, a man is talking to a man, a man is talking to another man in a room, \n",
      "a man is talking to a man in a room, a man is talking to a man, a man is talking to a camera, \n",
      "a man is talking, a man is talking to a man in a room, a man is talking to a man, \n",
      "a man is talking, a man is talking to a camera, a man is talking to a man in a room, \n",
      "a man is talking, a man is talking to a camera, a man is talking to a man in a room, \n",
      "a man is sitting in a room, a man is talking to a man in a room, a man is talking to a camera, \n",
      "a man is sitting in a room, a man is talking to a camera, a man is sitting in a room and talking to the camera, \n",
      "a man is sitting in a room, a man is talking to a man in a room, a man is talking to a camera, \n",
      "a man is talking about a computer program, a man is sitting in a room, a man is sitting in a room and talking about something, \n",
      "a person is showing how to use a computer program, a person is explaining how to use a computer program, a man is talking about a computer program, \n",
      "a man is talking about a computer, a man is talking, a young man is talking about a room, \n",
      "a man is sitting in a room, a man is sitting in a room and talking about it, a man is sitting on a chair and talking about it, \n",
      "a man is talking to a man in a room, a man is talking to another man in a room, a man is talking to a man, \n"
     ]
    }
   ],
   "source": [
    "main()"
   ]
  },
  {
   "cell_type": "code",
   "execution_count": null,
   "metadata": {
    "collapsed": true,
    "deletable": true,
    "editable": true
   },
   "outputs": [],
   "source": [
    "processed_video[0].shape"
   ]
  },
  {
   "cell_type": "code",
   "execution_count": 15,
   "metadata": {
    "collapsed": true,
    "deletable": true,
    "editable": true
   },
   "outputs": [],
   "source": [
    "engine.say(\"caption_batch[0][0][1]\")\n",
    "engine.runAndWait()"
   ]
  }
 ],
 "metadata": {
  "kernelspec": {
   "display_name": "Python 3",
   "language": "python",
   "name": "python3"
  },
  "language_info": {
   "codemirror_mode": {
    "name": "ipython",
    "version": 3
   },
   "file_extension": ".py",
   "mimetype": "text/x-python",
   "name": "python",
   "nbconvert_exporter": "python",
   "pygments_lexer": "ipython3",
   "version": "3.5.2"
  }
 },
 "nbformat": 4,
 "nbformat_minor": 2
}
