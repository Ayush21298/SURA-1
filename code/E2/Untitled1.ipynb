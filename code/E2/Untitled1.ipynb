{
 "cells": [
  {
   "cell_type": "code",
   "execution_count": 155,
   "metadata": {
    "collapsed": false
   },
   "outputs": [],
   "source": [
    "import seaborn"
   ]
  },
  {
   "cell_type": "code",
   "execution_count": 96,
   "metadata": {
    "collapsed": true
   },
   "outputs": [],
   "source": [
    "from __future__ import division\n",
    "from __future__ import print_function\n",
    "from __future__ import absolute_import\n",
    "\n",
    "import os\n",
    "import sys\n",
    "from coco_eval.pycocotools.coco import COCO\n",
    "from coco_eval.pycocoevalcap.eval import COCOEvalCap\n",
    "import configuration\n",
    "import argparse\n",
    "import pandas as pd\n",
    "import matplotlib.pyplot as plt\n",
    "\n",
    "def get_score(ref_filename,gen_filename,data_config):\n",
    "    ref_file = os.path.join(data_config[\"result_dir\"],ref_filename)\n",
    "    gen_file = os.path.join(data_config[\"result_dir\"],gen_filename)\n",
    "\n",
    "    if not os.path.isfile(ref_file):\n",
    "        print(\"%s not found in %s\\nExiting\" %(ref_filename,data_config[\"result_dir\"]))\n",
    "        sys.exit()\n",
    "\n",
    "    if not os.path.isfile(gen_file):\n",
    "        print(\"%s not found in %s\\nExiting\" %(gen_filename,data_config[\"result_dir\"]))\n",
    "        sys.exit()\n",
    "\n",
    "    # create coco object and cocoRes object\n",
    "    coco = COCO(ref_file)\n",
    "    cocoRes = coco.loadRes(gen_file)\n",
    "\n",
    "    # create cocoEval object by taking coco and cocoRes\n",
    "    cocoEval = COCOEvalCap(coco, cocoRes)\n",
    "\n",
    "    # evaluate on a subset of images by setting\n",
    "    # cocoEval.params['image_id'] = cocoRes.getImgIds()\n",
    "    # please remove this line when evaluating the full validation set\n",
    "    cocoEval.params['image_id'] = cocoRes.getImgIds()\n",
    "\n",
    "    # evaluate results\n",
    "    cocoEval.evaluate()\n",
    "    return cocoEval"
   ]
  },
  {
   "cell_type": "code",
   "execution_count": 97,
   "metadata": {
    "collapsed": false
   },
   "outputs": [
    {
     "name": "stdout",
     "output_type": "stream",
     "text": [
      "loading annotations into memory...\n",
      "0:00:00.430141\n",
      "creating index...\n",
      "index created!\n",
      "Loading and preparing results...     \n",
      "DONE (t=0.01s)\n",
      "creating index...\n",
      "index created!\n",
      "tokenization...\n",
      "setting up scorers...\n",
      "computing Bleu score...\n",
      "{'reflen': 24577, 'guess': [24256, 21266, 18276, 15286], 'testlen': 24256, 'correct': [19014, 10246, 4848, 2015]}\n",
      "ratio: 0.986939008016\n",
      "Bleu_1: 0.774\n",
      "Bleu_2: 0.606\n",
      "Bleu_3: 0.458\n",
      "Bleu_4: 0.335\n",
      "computing METEOR score...\n",
      "METEOR: 0.263\n",
      "computing Rouge score...\n",
      "ROUGE_L: 0.573\n",
      "computing CIDEr score...\n",
      "CIDEr: 0.394\n",
      "loading annotations into memory...\n",
      "0:00:00.409480\n",
      "creating index...\n",
      "index created!\n",
      "Loading and preparing results...     \n",
      "DONE (t=0.01s)\n",
      "creating index...\n",
      "index created!\n",
      "tokenization...\n",
      "setting up scorers...\n",
      "computing Bleu score...\n",
      "{'reflen': 24249, 'guess': [23863, 20873, 17883, 14893], 'testlen': 23863, 'correct': [18691, 10059, 4722, 1949]}\n",
      "ratio: 0.984081817807\n",
      "Bleu_1: 0.771\n",
      "Bleu_2: 0.605\n",
      "Bleu_3: 0.456\n",
      "Bleu_4: 0.333\n",
      "computing METEOR score...\n",
      "METEOR: 0.262\n",
      "computing Rouge score...\n",
      "ROUGE_L: 0.570\n",
      "computing CIDEr score...\n",
      "CIDEr: 0.383\n"
     ]
    }
   ],
   "source": [
    "data_config = configuration.DataConfig().config\n",
    "result_files = [i for i in os.listdir(data_config[\"result_dir\"]) if \"_generated.json\" in i][:2]\n",
    "models = [i[:-15] for i in result_files]\n",
    "scores = []\n",
    "for result in result_files:\n",
    "    res = get_score(\"reference.json\",result,data_config)\n",
    "    scores.append(res.eval)"
   ]
  },
  {
   "cell_type": "code",
   "execution_count": null,
   "metadata": {
    "collapsed": true
   },
   "outputs": [],
   "source": [
    "table = {\"model\":[],\"Bleu_1\":[],\"Bleu_2\":[],\"Bleu_3\":[],\"Bleu_4\":[],\"METEOR\":[],\"ROUGE_L\":[],\"CIDEr\":[]}\n",
    "table[\"model\"] = models\n",
    "table[\"Bleu_1\"] = [i[\"Bleu_1\"] for i in scores]\n",
    "table[\"Bleu_2\"] = [i[\"Bleu_2\"] for i in scores]\n",
    "table[\"Bleu_3\"] = [i[\"Bleu_3\"] for i in scores]\n",
    "table[\"Bleu_4\"] = [i[\"Bleu_4\"] for i in scores]\n",
    "table[\"METEOR\"] = [i[\"METEOR\"] for i in scores]\n",
    "table[\"ROUGE_L\"] = [i[\"ROUGE_L\"] for i in scores]\n",
    "table[\"CIDEr\"] = [i[\"CIDEr\"] for i in scores]\n",
    "df = pd.DataFrame(table)"
   ]
  },
  {
   "cell_type": "code",
   "execution_count": 148,
   "metadata": {
    "collapsed": false
   },
   "outputs": [
    {
     "data": {
      "text/plain": [
       "<matplotlib.figure.Figure at 0x7fe63f8f6f10>"
      ]
     },
     "execution_count": 148,
     "metadata": {},
     "output_type": "execute_result"
    }
   ],
   "source": [
    "plt.figure(figsize=(2,1))"
   ]
  },
  {
   "cell_type": "code",
   "execution_count": 149,
   "metadata": {
    "collapsed": false
   },
   "outputs": [
    {
     "data": {
      "text/plain": [
       "<matplotlib.axes._subplots.AxesSubplot at 0x7fe6436258d0>"
      ]
     },
     "execution_count": 149,
     "metadata": {},
     "output_type": "execute_result"
    }
   ],
   "source": [
    "df.plot(x='model',marker='o',title=\"Captioning Scores\")"
   ]
  },
  {
   "cell_type": "code",
   "execution_count": 150,
   "metadata": {
    "collapsed": false
   },
   "outputs": [
    {
     "data": {
      "text/plain": [
       "<matplotlib.legend.Legend at 0x7fe63fb9f850>"
      ]
     },
     "execution_count": 150,
     "metadata": {},
     "output_type": "execute_result"
    }
   ],
   "source": [
    "plt.legend(loc='best')"
   ]
  },
  {
   "cell_type": "code",
   "execution_count": 151,
   "metadata": {
    "collapsed": true
   },
   "outputs": [],
   "source": [
    "import numpy as np"
   ]
  },
  {
   "cell_type": "code",
   "execution_count": 159,
   "metadata": {
    "collapsed": false
   },
   "outputs": [
    {
     "data": {
      "text/html": [
       "<div>\n",
       "<table border=\"1\" class=\"dataframe\">\n",
       "  <thead>\n",
       "    <tr style=\"text-align: right;\">\n",
       "      <th></th>\n",
       "      <th>Bleu_1</th>\n",
       "      <th>Bleu_2</th>\n",
       "      <th>Bleu_3</th>\n",
       "      <th>Bleu_4</th>\n",
       "      <th>CIDEr</th>\n",
       "      <th>METEOR</th>\n",
       "      <th>ROUGE_L</th>\n",
       "      <th>model</th>\n",
       "    </tr>\n",
       "  </thead>\n",
       "  <tbody>\n",
       "    <tr>\n",
       "      <th>0</th>\n",
       "      <td>0.773583</td>\n",
       "      <td>0.606477</td>\n",
       "      <td>0.458340</td>\n",
       "      <td>0.334541</td>\n",
       "      <td>0.393545</td>\n",
       "      <td>0.263355</td>\n",
       "      <td>0.572815</td>\n",
       "      <td>model-9044</td>\n",
       "    </tr>\n",
       "    <tr>\n",
       "      <th>1</th>\n",
       "      <td>0.770695</td>\n",
       "      <td>0.604524</td>\n",
       "      <td>0.456208</td>\n",
       "      <td>0.332524</td>\n",
       "      <td>0.383300</td>\n",
       "      <td>0.261889</td>\n",
       "      <td>0.570237</td>\n",
       "      <td>model-10480</td>\n",
       "    </tr>\n",
       "  </tbody>\n",
       "</table>\n",
       "</div>"
      ],
      "text/plain": [
       "     Bleu_1    Bleu_2    Bleu_3    Bleu_4     CIDEr    METEOR   ROUGE_L  \\\n",
       "0  0.773583  0.606477  0.458340  0.334541  0.393545  0.263355  0.572815   \n",
       "1  0.770695  0.604524  0.456208  0.332524  0.383300  0.261889  0.570237   \n",
       "\n",
       "         model  \n",
       "0   model-9044  \n",
       "1  model-10480  "
      ]
     },
     "execution_count": 159,
     "metadata": {},
     "output_type": "execute_result"
    }
   ],
   "source": [
    "df"
   ]
  },
  {
   "cell_type": "code",
   "execution_count": 161,
   "metadata": {
    "collapsed": false
   },
   "outputs": [
    {
     "data": {
      "text/plain": [
       "([<matplotlib.axis.YTick at 0x7fe6579a4610>,\n",
       "  <matplotlib.axis.YTick at 0x7fe655cf9a10>,\n",
       "  <matplotlib.axis.YTick at 0x7fe6504a96d0>,\n",
       "  <matplotlib.axis.YTick at 0x7fe6504a9e10>,\n",
       "  <matplotlib.axis.YTick at 0x7fe64b988590>,\n",
       "  <matplotlib.axis.YTick at 0x7fe64b988cd0>,\n",
       "  <matplotlib.axis.YTick at 0x7fe64b9a3450>,\n",
       "  <matplotlib.axis.YTick at 0x7fe64b9a3b90>,\n",
       "  <matplotlib.axis.YTick at 0x7fe64b97d310>,\n",
       "  <matplotlib.axis.YTick at 0x7fe64b97da50>,\n",
       "  <matplotlib.axis.YTick at 0x7fe64b98f1d0>,\n",
       "  <matplotlib.axis.YTick at 0x7fe64b98f910>,\n",
       "  <matplotlib.axis.YTick at 0x7fe64b9a5090>,\n",
       "  <matplotlib.axis.YTick at 0x7fe64b9a57d0>,\n",
       "  <matplotlib.axis.YTick at 0x7fe64b9a5f10>,\n",
       "  <matplotlib.axis.YTick at 0x7fe655ce6650>],\n",
       " <a list of 16 Text yticklabel objects>)"
      ]
     },
     "execution_count": 161,
     "metadata": {},
     "output_type": "execute_result"
    }
   ],
   "source": [
    "plt.yticks(np.arange(0.2, 1.0, 0.05))"
   ]
  },
  {
   "cell_type": "code",
   "execution_count": 153,
   "metadata": {
    "collapsed": false
   },
   "outputs": [
    {
     "data": {
      "text/plain": [
       "<matplotlib.figure.Figure at 0x7fe63f8f6f10>"
      ]
     },
     "metadata": {},
     "output_type": "display_data"
    },
    {
     "data": {
      "image/png": "[encoded data removed]",
      "text/plain": [
       "<matplotlib.figure.Figure at 0x7fe6608feb10>"
      ]
     },
     "metadata": {},
     "output_type": "display_data"
    }
   ],
   "source": [
    "plt.show()"
   ]
  },
  {
   "cell_type": "code",
   "execution_count": 132,
   "metadata": {
    "collapsed": true
   },
   "outputs": [],
   "source": [
    "plt.savefig(os.path.join(data_config[\"result_dir\"],\"graph.png\"))\n",
    "plt.close()\n",
    "with open(os.path.join(data_config[\"result_dir\"],\"result.csv\"),\"w\") as fl:\n",
    "    fl.write(\"%15s , %8s , %8s , %8s , %8s , %8s , %8s , %8s\\n\" \n",
    "            %(\"model\",\"Bleu_1\",\"Bleu_2\",\"Bleu_3\",\"Bleu_4\",\"METEOR\",\"ROUGE_L\",\"CIDEr\"))\n",
    "\n",
    "    for model,data in zip(models,scores):\n",
    "        fl.write(\"%15s , %8.3f , %8.3f , %8.3f , %8.3f , %8.3f , %8.3f , %8.3f\\n\"\n",
    "                                                                %(model,data[\"Bleu_1\"],\n",
    "                                                                data[\"Bleu_2\"],data[\"Bleu_3\"],\n",
    "                                                                data[\"Bleu_4\"],data[\"METEOR\"],\n",
    "                                                                data[\"ROUGE_L\"],data[\"CIDEr\"]))"
   ]
  },
  {
   "cell_type": "code",
   "execution_count": null,
   "metadata": {
    "collapsed": true
   },
   "outputs": [],
   "source": []
  }
 ],
 "metadata": {
  "kernelspec": {
   "display_name": "Python 2",
   "language": "python",
   "name": "python2"
  }
 },
 "nbformat": 4,
 "nbformat_minor": 2
}
