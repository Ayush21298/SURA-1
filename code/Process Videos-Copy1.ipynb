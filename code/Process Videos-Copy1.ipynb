{
 "cells": [
  {
   "cell_type": "code",
   "execution_count": null,
   "metadata": {
    "collapsed": true
   },
   "outputs": [],
   "source": [
    "from __future__ import division\n",
    "from __future__ import print_function\n",
    "from __future__ import absolute_import\n",
    "\n",
    "import os\n",
    "import tensorflow as tf\n",
    "import numpy as np\n",
    "import cv2\n",
    "from scipy import misc\n",
    "import time\n",
    "import inception_base\n",
    "\n",
    "FLAGS = tf.app.flags.FLAGS\n",
    "\n",
    "tf.flags.DEFINE_integer(\"num_frames\", 100,\n",
    "                       \"Number of frames after sampling.\")\n",
    "tf.flags.DEFINE_string(\"video_dir\", \"../dataset/raw/MSVD/\",\n",
    "                       \"Directory containing the video files.\")\n",
    "tf.flags.DEFINE_string(\"output_dir\", \"../dataset/MSVD_processed/\",\n",
    "                       \"Directory containing the output files.\")\n",
    "tf.flags.DEFINE_string(\"checkpoint_path\", \"./inception_v4.ckpt\",\n",
    "                       \"Checkpoint containing the InceptionV4 model.\")\n",
    "\n",
    "def read_video(video_path,num_frames):\n",
    "    #p = os.path.join(train_val_video_path+x)\n",
    "    cap  = cv2.VideoCapture( video_path )\n",
    "    frame_count = 0\n",
    "    frame_list = []\n",
    "    while True:\n",
    "        ret, frame = cap.read()\n",
    "        if ret is False:\n",
    "            break\n",
    "        frame_list.append(frame)\n",
    "        frame_count += 1\n",
    "    if frame_count > num_frames:\n",
    "        frame_indices = np.linspace(0, frame_count-1, num=num_frames, endpoint=True).astype(int)\n",
    "        frame_list = frame_list[frame_indices]\n",
    "    frame_list = [cv2.cvtColor(x, cv2.COLOR_BGR2RGB) for x in frame_list]\n",
    "    frame_list_resized = [misc.imresize(frame,[299,299,3]) for frame in frame_list]\n",
    "    frame_list_processed = [((2*(frame.astype(np.float32) / 255 ))-1) for frame in frame_list_resized]\n",
    "    frame_list = np.array(frame_list_processed)\n",
    "    return frame_list\n"
   ]
  },
  {
   "cell_type": "code",
   "execution_count": null,
   "metadata": {
    "collapsed": false
   },
   "outputs": [],
   "source": [
    "## Getting files\n",
    "supported_extensions = [\".mp4\",\".avi\"]\n",
    "input_files = []\n",
    "\n",
    "for root, dirs, files in os.walk(FLAGS.video_dir):\n",
    "    input_files += [os.path.join(root,fl) for fl in files if os.path.splitext(fl)[1] in supported_extensions]\n",
    "\n",
    "output_files = [os.path.join(FLAGS.output_dir,fl[len(FLAGS.video_dir):]) for fl in input_files]\n",
    "output_dirs = list(set([os.path.dirname(fl) for fl in output_files]))\n",
    "\n",
    "for dr in output_dirs:\n",
    "    os.makedirs(dr,exist_ok=True)"
   ]
  },
  {
   "cell_type": "code",
   "execution_count": null,
   "metadata": {
    "collapsed": false
   },
   "outputs": [],
   "source": [
    "input_files"
   ]
  },
  {
   "cell_type": "code",
   "execution_count": null,
   "metadata": {
    "collapsed": false
   },
   "outputs": [],
   "source": [
    "input_files"
   ]
  },
  {
   "cell_type": "code",
   "execution_count": null,
   "metadata": {
    "collapsed": true
   },
   "outputs": [],
   "source": [
    "sess = tf.Session()"
   ]
  },
  {
   "cell_type": "code",
   "execution_count": null,
   "metadata": {
    "collapsed": false
   },
   "outputs": [],
   "source": [
    "saver = tf.train.Saver(var_list=inception_variables)\n",
    "saver.restore(sess,FLAGS.checkpoint_path)"
   ]
  },
  {
   "cell_type": "code",
   "execution_count": null,
   "metadata": {
    "collapsed": false
   },
   "outputs": [],
   "source": [
    "len(input_files)"
   ]
  },
  {
   "cell_type": "code",
   "execution_count": null,
   "metadata": {
    "collapsed": false
   },
   "outputs": [],
   "source": [
    "input_files"
   ]
  },
  {
   "cell_type": "code",
   "execution_count": null,
   "metadata": {
    "collapsed": true
   },
   "outputs": [],
   "source": [
    "x = input_files"
   ]
  },
  {
   "cell_type": "code",
   "execution_count": null,
   "metadata": {
    "collapsed": true
   },
   "outputs": [],
   "source": [
    "input_files = [\"../dataset/raw/MSR-VTT_2016/TestVideo/video8528.mp4\"]"
   ]
  },
  {
   "cell_type": "code",
   "execution_count": null,
   "metadata": {
    "collapsed": true
   },
   "outputs": [],
   "source": [
    "i=0"
   ]
  },
  {
   "cell_type": "code",
   "execution_count": null,
   "metadata": {
    "collapsed": false
   },
   "outputs": [],
   "source": [
    "video = read_video(input_files[i],FLAGS.num_frames)"
   ]
  },
  {
   "cell_type": "code",
   "execution_count": null,
   "metadata": {
    "collapsed": false
   },
   "outputs": [],
   "source": [
    "    video.shape"
   ]
  },
  {
   "cell_type": "code",
   "execution_count": null,
   "metadata": {
    "collapsed": true
   },
   "outputs": [],
   "source": [
    "embedded_frames = sess.run(inception_output,feed_dict={image_feed:video})"
   ]
  },
  {
   "cell_type": "code",
   "execution_count": null,
   "metadata": {
    "collapsed": false
   },
   "outputs": [],
   "source": [
    "if(embedded_frames.shape[0] < FLAGS.num_frames):\n",
    "    num_zeros = (FLAGS.num_frames-embedded_frames.shape[0])\n",
    "    end_zeros = np.zeros([num_zeros,embedded_frames.shape[1]])\n",
    "    mask = np.asarray([1]*embedded_frames.shape[0]+[0]*(num_zeros),dtype=np.uint8)                \n",
    "    embedded_frames = np.concatenate([embedded_frames,end_zeros],axis=0)\n",
    "else:\n",
    "    mask = np.ones([FLAGS.num_frames],dtype=np.uint8)"
   ]
  },
  {
   "cell_type": "code",
   "execution_count": null,
   "metadata": {
    "collapsed": false
   },
   "outputs": [],
   "source": [
    "mask.shape"
   ]
  },
  {
   "cell_type": "code",
   "execution_count": null,
   "metadata": {
    "collapsed": false
   },
   "outputs": [],
   "source": [
    "mask"
   ]
  },
  {
   "cell_type": "code",
   "execution_count": null,
   "metadata": {
    "collapsed": false
   },
   "outputs": [],
   "source": [
    "output_files[i]+\".npy\""
   ]
  },
  {
   "cell_type": "code",
   "execution_count": 1,
   "metadata": {
    "collapsed": true
   },
   "outputs": [],
   "source": [
    "import os"
   ]
  },
  {
   "cell_type": "code",
   "execution_count": 2,
   "metadata": {
    "collapsed": true
   },
   "outputs": [],
   "source": [
    "vid1 = os.listdir(\"/home/ozym4nd145/Coding/Notebook/SURA/dataset/raw/MSVD (copy)\")"
   ]
  },
  {
   "cell_type": "code",
   "execution_count": 24,
   "metadata": {
    "collapsed": true
   },
   "outputs": [],
   "source": [
    "vid2 = [f[:-4] for f in os.listdir(\"/home/ozym4nd145/Coding/Notebook/SURA/dataset/MSVD_processed\") if \"mask\" not in f]"
   ]
  },
  {
   "cell_type": "code",
   "execution_count": 25,
   "metadata": {
    "collapsed": false
   },
   "outputs": [],
   "source": [
    "vid1 = set(vid1)"
   ]
  },
  {
   "cell_type": "code",
   "execution_count": 26,
   "metadata": {
    "collapsed": true
   },
   "outputs": [],
   "source": [
    "vid2 = set(vid2)"
   ]
  },
  {
   "cell_type": "code",
   "execution_count": 27,
   "metadata": {
    "collapsed": false
   },
   "outputs": [],
   "source": [
    "vid3 = vid1 - vid2"
   ]
  },
  {
   "cell_type": "code",
   "execution_count": 29,
   "metadata": {
    "collapsed": false
   },
   "outputs": [],
   "source": [
    "l1 = list(vid1)\n",
    "l2 = list(vid2)"
   ]
  },
  {
   "cell_type": "code",
   "execution_count": 30,
   "metadata": {
    "collapsed": true
   },
   "outputs": [],
   "source": [
    "l1.sort()\n",
    "l2.sort()"
   ]
  },
  {
   "cell_type": "code",
   "execution_count": 31,
   "metadata": {
    "collapsed": false
   },
   "outputs": [
    {
     "data": {
      "text/plain": [
       "['-4wsuPCjDBc_5_15.avi',\n",
       " '-7KMZQEsJW4_205_208.avi',\n",
       " '-8y1Q0rA3n8_108_115.avi',\n",
       " '-8y1Q0rA3n8_95_102.avi',\n",
       " '-9CUm-2cui8_39_44.avi',\n",
       " '-AwoiGR6c8M_10_14.avi',\n",
       " '-Cv5LsqKUXc_17_25.avi',\n",
       " '-Cv5LsqKUXc_71_76.avi',\n",
       " '-DKuLXYoY3g_14_20.avi',\n",
       " '-DRy7rBg0IQ_31_37.avi']"
      ]
     },
     "execution_count": 31,
     "metadata": {},
     "output_type": "execute_result"
    }
   ],
   "source": [
    "l1[:10]"
   ]
  },
  {
   "cell_type": "code",
   "execution_count": 32,
   "metadata": {
    "collapsed": false
   },
   "outputs": [
    {
     "data": {
      "text/plain": [
       "['---aiyznGQ_0_6.avi',\n",
       " '-2C_N5anww_1_3.avi',\n",
       " '-4wsuPCjDBc_5_15.avi',\n",
       " '-8y1Q0rA3n8_108_115.avi',\n",
       " '-8y1Q0rA3n8_95_102.avi',\n",
       " '-8z5U-o4O4_0_3.avi',\n",
       " '-9CUm-2cui8_39_44.avi',\n",
       " '-AwoiGR6c8M_10_14.avi',\n",
       " '-Cv5LsqKUXc_17_25.avi',\n",
       " '-Cv5LsqKUXc_71_76.avi']"
      ]
     },
     "execution_count": 32,
     "metadata": {},
     "output_type": "execute_result"
    }
   ],
   "source": [
    "l2[:10]"
   ]
  },
  {
   "cell_type": "code",
   "execution_count": 35,
   "metadata": {
    "collapsed": false
   },
   "outputs": [
    {
     "data": {
      "text/plain": [
       "{'-7KMZQEsJW4_205_208.avi',\n",
       " '0lh_UWF9ZP4_157_160.avi',\n",
       " '0lh_UWF9ZP4_79_82.avi',\n",
       " '16iNk1hLJt4_37_40.avi',\n",
       " '2KrdBUFeFtY_22_27.avi',\n",
       " '2Nn2CAeaI5k_72_77.avi',\n",
       " '2YhDTpzxd3c_102_105.avi',\n",
       " '2YhDTpzxd3c_98_101.avi',\n",
       " '3OPQqH3YlHA_50_54.avi',\n",
       " '3zgEl-OLFKE_12_15.avi',\n",
       " '4wT7zM8XgXQ_5_11.avi',\n",
       " '5-8z5U-o4O4_0_3.avi',\n",
       " '5K7Ru5s6YIw_8_11.avi',\n",
       " '5L5MoemWC6g_10_13.avi',\n",
       " '7OGizkf_JEo_191_194.avi',\n",
       " '88DOMJ11q2M_84_87.avi',\n",
       " '93n_oYVCLpk_9_12.avi',\n",
       " '953PkxFNiko_82_85.avi',\n",
       " '992zi9V3oiQ_15_17.avi',\n",
       " '9LSuyLyuUiM_3_6.avi',\n",
       " 'BgoOihBb78w_38_40.avi',\n",
       " 'C_DDjCRxTxQ_1_4.avi',\n",
       " 'CwPfvoqmV1Q_58_61.avi',\n",
       " 'DuMkW35BwK8_43_47.avi',\n",
       " 'FXWdmIHXS_U_3_10.avi',\n",
       " 'FoL7aWvpvNs_199_204.avi',\n",
       " 'GEXqMH8I3_w_14_18.avi',\n",
       " 'GEXqMH8I3_w_63_68.avi',\n",
       " 'GWQTAe64m-0_91_94.avi',\n",
       " 'Gn4Iv5ARIXc_37_40.avi',\n",
       " 'GyIs9B3A1Z0_0_7.avi',\n",
       " 'H7vezmDeZaw_2_7.avi',\n",
       " 'Hd-NeIhbYGc_28_31.avi',\n",
       " 'IWhrWLOAin0_1_4.avi',\n",
       " 'IY1Fn796MoY_7_10.avi',\n",
       " 'J---aiyznGQ_0_6.avi',\n",
       " 'J7zb8YXrmIA_93_99.avi',\n",
       " 'JhCvLmf9yr0_46_50.avi',\n",
       " 'Kqb-mmkEWqU_1_5.avi',\n",
       " 'Li3umATsU0E_1_5.avi',\n",
       " 'Lw0eGsYxElA_11_14.avi',\n",
       " 'Ne87egvJnWo_0_3.avi',\n",
       " 'NjCqtzZ3OtU_303_307.avi',\n",
       " 'OIjsSu_I4So_6_10.avi',\n",
       " 'Okg8QYhdtvU_48_53.avi',\n",
       " 'PAN5IVvMlVc_17_23.avi',\n",
       " 'PCXHuseKwDc_17_20.avi',\n",
       " 'PeUHy0A1GF0_74_77.avi',\n",
       " 'PslVHtXc7Tg_8_14.avi',\n",
       " 'SaOqf2d-y30_22_27.avi',\n",
       " 'TPD5wO_LEPU_2_6.avi',\n",
       " 'TPhpsIK7pDc_25_32.avi',\n",
       " 'UnWgz-mVMXU_2_6.avi',\n",
       " 'VyBXcQ1v_cw_7_15.avi',\n",
       " 'W6_XuNhgtrM_2_5.avi',\n",
       " 'X98fLZHIzWQ_15_20.avi',\n",
       " 'XtQdAPV2UZs_4_11.avi',\n",
       " 'YZ0-6hdQ0mU_0_3.avi',\n",
       " '_UqnTFs1BLc_23_27.avi',\n",
       " 'aRo8x3xXeEA_3_8.avi',\n",
       " 'cSDkshD2ME0_11_14.avi',\n",
       " 'cSDkshD2ME0_12_15.avi',\n",
       " 'd-2C_N5anww_1_3.avi',\n",
       " 'dfOuTx66bJU_11_14.avi',\n",
       " 'e40bBP0_AbE_64_67.avi',\n",
       " 'eVSQiPbepXg_44_49.avi',\n",
       " 'fBA_lxUiwSg_2_4.avi',\n",
       " 'gHzws6FpuNE_10_12.avi',\n",
       " 'glrijRGnmc0_211_215.avi',\n",
       " 'gp8XjWSoP2k_0_10.avi',\n",
       " 'idXJu0BQRvo_2_6.avi',\n",
       " 'iuqVpMdb1NM_35_43.avi',\n",
       " 'jMO3jGQeqyk_3_6.avi',\n",
       " 'jZ8X8e7eRVk_24_27.avi',\n",
       " 'k8l4ETsylVY_9_18.avi',\n",
       " 'kJY5BRCNAs4_3_6.avi',\n",
       " 'klteYv1Uv9A_27_33.avi',\n",
       " 'lcu-DwrnYY8_2_5.avi',\n",
       " 'lmCrIZeob4w_23_26.avi',\n",
       " 'mOZkcBcWR8o_6_12.avi',\n",
       " 'mbesJaS6vwg_187_195.avi',\n",
       " 'nTasT5h0LEg_12_14.avi',\n",
       " 'nTasT5h0LEg_40_43.avi',\n",
       " 'nULE40HEWpA_5_11.avi',\n",
       " 'p7IAuvd87hQ_12_19.avi',\n",
       " 'q3I3R_gqy8M_34_37.avi',\n",
       " 'qRoxNXm7INc_58_66.avi',\n",
       " 'qeKX-N1nKiM_74_77.avi',\n",
       " 'qvg9eM4Hmzk_4_10.avi',\n",
       " 'rOic25PnIx8_1_3.avi',\n",
       " 'rw9h_574HxE_251_254.avi',\n",
       " 's6QwbmWbSmw_18_24.avi',\n",
       " 's7znbqra118_91_97.avi',\n",
       " 'vuvpbeQak9Q_23_29.avi',\n",
       " 'w9mqbwOIkVg_6_12.avi',\n",
       " 'xlPyHMkpaQY_1_7.avi',\n",
       " 'xxHx6s_DbUo_158_161.avi',\n",
       " 'xxHx6s_DbUo_162_165.avi',\n",
       " 'xxHx6s_DbUo_173_177.avi',\n",
       " 'xxHx6s_DbUo_182_186.avi',\n",
       " 'xxHx6s_DbUo_32_36.avi',\n",
       " 'xxHx6s_DbUo_36_40.avi',\n",
       " 'xxHx6s_DbUo_41_44.avi',\n",
       " 'xxHx6s_DbUo_57_61.avi',\n",
       " 'xxHx6s_DbUo_82_86.avi',\n",
       " 'xxHx6s_DbUo_98_101.avi',\n",
       " 'yREFkmrrYiw_51_57.avi',\n",
       " 'yg4aNiO1JnI_111_114.avi',\n",
       " 'z0zb--BOhDY_16_22.avi',\n",
       " 'zkTn5Ef1Oig_71_75.avi',\n",
       " 'zv2RIbUsnSw_159_162.avi'}"
      ]
     },
     "execution_count": 35,
     "metadata": {},
     "output_type": "execute_result"
    }
   ],
   "source": [
    "set.difference(vid1,vid2)"
   ]
  },
  {
   "cell_type": "code",
   "execution_count": null,
   "metadata": {
    "collapsed": true
   },
   "outputs": [],
   "source": []
  }
 ],
 "metadata": {
  "kernelspec": {
   "display_name": "Python 3",
   "language": "python",
   "name": "python3"
  },
  "language_info": {
   "codemirror_mode": {
    "name": "ipython",
    "version": 3
   },
   "file_extension": ".py",
   "mimetype": "text/x-python",
   "name": "python",
   "nbconvert_exporter": "python",
   "pygments_lexer": "ipython3",
   "version": "3.5.2"
  }
 },
 "nbformat": 4,
 "nbformat_minor": 2
}
