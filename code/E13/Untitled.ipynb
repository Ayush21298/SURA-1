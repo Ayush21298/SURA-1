{
 "cells": [
  {
   "cell_type": "code",
   "execution_count": 2,
   "metadata": {
    "collapsed": false,
    "deletable": true,
    "editable": true
   },
   "outputs": [],
   "source": [
    "from __future__ import division\n",
    "from __future__ import print_function\n",
    "from __future__ import absolute_import\n",
    "\n",
    "import os\n",
    "import tensorflow as tf\n",
    "import numpy as np\n",
    "import time\n",
    "import json\n",
    "\n",
    "from tensorflow.contrib.tensorboard.plugins import projector\n",
    "\n",
    "from model import Caption_Model\n",
    "from data_generator import Data_Generator\n",
    "import configuration\n",
    "\n",
    "data_config = configuration.DataConfig().config\n",
    "data_gen = Data_Generator(processed_video_dir = data_config[\"processed_video_dir\"],\n",
    "                        caption_file = data_config[\"caption_file\"],\n",
    "                        unique_freq_cutoff = data_config[\"unique_frequency_cutoff\"],\n",
    "                        max_caption_len = data_config[\"max_caption_length\"])\n",
    "\n",
    "data_gen.load_vocabulary(data_config[\"caption_data_dir\"])\n",
    "data_gen.load_dataset(data_config[\"caption_data_dir\"])\n",
    "model_config = configuration.ModelConfig(data_gen).config\n",
    "model = Caption_Model(**model_config,mode=\"inference\")\n",
    "model.build()\n",
    "\n",
    "proj_config = projector.ProjectorConfig()\n",
    "embedding = proj_config.embeddings.add()\n",
    "embedding.tensor_name = model.word_emb.name\n",
    "embedding.metadata_path = os.path.join(os.path.abspath(data_config[\"train_log_dir\"]),\"metadata.tsv\")\n",
    "summary_writer = tf.summary.FileWriter(data_config[\"train_log_dir\"])\n",
    "projector.visualize_embeddings(summary_writer, proj_config)\n",
    "\n",
    "keys = list(data_gen.idx_to_word.keys())\n",
    "keys.sort()\n",
    "with open(embedding.metadata_path,\"w\") as fl:\n",
    "    for key in keys:\n",
    "        fl.write(data_gen.idx_to_word[key]+\"\\n\")"
   ]
  },
  {
   "cell_type": "code",
   "execution_count": 3,
   "metadata": {
    "collapsed": false,
    "deletable": true,
    "editable": true
   },
   "outputs": [
    {
     "data": {
      "text/plain": [
       "'/home/ozym4nd145/Coding/Notebook/SURA/code/E13/models/train'"
      ]
     },
     "execution_count": 3,
     "metadata": {},
     "output_type": "execute_result"
    }
   ],
   "source": [
    "os.path.abspath(data_config[\"train_log_dir\"])"
   ]
  },
  {
   "cell_type": "code",
   "execution_count": null,
   "metadata": {
    "collapsed": true
   },
   "outputs": [],
   "source": []
  }
 ],
 "metadata": {
  "kernelspec": {
   "display_name": "Python 3",
   "language": "python",
   "name": "python3"
  },
  "language_info": {
   "codemirror_mode": {
    "name": "ipython",
    "version": 3
   },
   "file_extension": ".py",
   "mimetype": "text/x-python",
   "name": "python",
   "nbconvert_exporter": "python",
   "pygments_lexer": "ipython3",
   "version": "3.5.2"
  }
 },
 "nbformat": 4,
 "nbformat_minor": 2
}
