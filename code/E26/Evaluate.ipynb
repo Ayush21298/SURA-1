{
 "cells": [
  {
   "cell_type": "code",
   "execution_count": 1,
   "metadata": {
    "collapsed": true
   },
   "outputs": [],
   "source": [
    "from __future__ import division\n",
    "from __future__ import print_function\n",
    "from __future__ import absolute_import\n",
    "\n",
    "import tensorflow as tf\n",
    "import numpy as np\n",
    "import os\n",
    "os.environ[\"CUDA_VISIBLE_DEVICES\"]=\"\"\n",
    "import time\n",
    "import math\n",
    "\n",
    "from model import Caption_Model\n",
    "from data_generator import Data_Generator\n",
    "from inference_util import Inference\n",
    "\n",
    "import configuration\n",
    "import inception_base\n",
    "import argparse"
   ]
  },
  {
   "cell_type": "code",
   "execution_count": 2,
   "metadata": {
    "collapsed": false
   },
   "outputs": [],
   "source": [
    "parser = argparse.ArgumentParser()\n",
    "parser.add_argument(\"--eval_interval_secs\", help=\"Interval between evaluation runs.\",\n",
    "                    type=int, default=300)\n",
    "parser.add_argument(\"--min_global_step\", help=\"Minimum global step to run evaluation.\",\n",
    "                    type=int, default=100)\n",
    "parser.add_argument(\"--batch_size\", help=\"Number of batches to evaluate at once.\",\n",
    "                    type=int, default=100)\n",
    "parser.add_argument(\"--max_batch_process\", help=\"Total number of batches to evaluate.\",\n",
    "                    type=int, default=10)\n",
    "parser.add_argument(\"--eval_all_models\", help=\"Whether to evaluate all models in checkpoint_dir\",\n",
    "                    action=\"store_true\")\n",
    "FLAGS = parser.parse_args([\"--eval_all_models\"])"
   ]
  },
  {
   "cell_type": "code",
   "execution_count": 3,
   "metadata": {
    "collapsed": false
   },
   "outputs": [],
   "source": [
    "# Create the evaluation directory if it doesn't exist.\n",
    "\n",
    "data_config = configuration.DataConfig().config\n",
    "data_gen = Data_Generator(data_config[\"processed_video_dir\"],\n",
    "                      data_config[\"caption_file\"],\n",
    "                      data_config[\"unique_frequency_cutoff\"],\n",
    "                      data_config[\"max_caption_length\"])\n",
    "\n",
    "data_gen.load_vocabulary(data_config[\"caption_data_dir\"])\n",
    "data_gen.load_dataset(data_config[\"caption_data_dir\"])\n",
    "\n",
    "FLAGS.checkpoint_dir = data_config[\"checkpoint_dir\"]\n",
    "\n",
    "eval_dir = data_config[\"val_log_dir\"]\n",
    "\n",
    "evaluated_models = set([])"
   ]
  },
  {
   "cell_type": "code",
   "execution_count": 4,
   "metadata": {
    "collapsed": true
   },
   "outputs": [],
   "source": [
    "model_config = configuration.ModelConfig(data_gen).config\n",
    "model = Caption_Model(mode=\"val\", **model_config)\n",
    "model.build()\n",
    "\n",
    "# Create the Saver to restore model Variables.\n",
    "saver = tf.train.Saver()"
   ]
  },
  {
   "cell_type": "code",
   "execution_count": 5,
   "metadata": {
    "collapsed": true
   },
   "outputs": [],
   "source": [
    "FLAGS.checkpoint_file = tf.train.latest_checkpoint(FLAGS.checkpoint_dir)"
   ]
  },
  {
   "cell_type": "code",
   "execution_count": 6,
   "metadata": {
    "collapsed": true
   },
   "outputs": [],
   "source": [
    "model_path = tf.train.latest_checkpoint(FLAGS.checkpoint_dir)"
   ]
  },
  {
   "cell_type": "code",
   "execution_count": 7,
   "metadata": {
    "collapsed": false
   },
   "outputs": [],
   "source": [
    "sess = tf.Session()"
   ]
  },
  {
   "cell_type": "code",
   "execution_count": 8,
   "metadata": {
    "collapsed": false
   },
   "outputs": [
    {
     "name": "stdout",
     "output_type": "stream",
     "text": [
      "INFO:tensorflow:Restoring parameters from ./models/train/model-5\n"
     ]
    }
   ],
   "source": [
    "saver.restore(sess, model_path)"
   ]
  },
  {
   "cell_type": "code",
   "execution_count": 9,
   "metadata": {
    "collapsed": false
   },
   "outputs": [],
   "source": [
    "data_gen.init_batch(FLAGS.batch_size,\"val\")\n",
    "total_loss = 0\n",
    "\n",
    "global_step = sess.run(model.global_step)\n",
    "\n",
    "start_time = time.time()\n",
    "if FLAGS.max_batch_process:\n",
    "    max_iter = FLAGS.max_batch_process\n",
    "else:\n",
    "    max_iter = data_gen.iter_per_epoch[\"val\"]"
   ]
  },
  {
   "cell_type": "code",
   "execution_count": 10,
   "metadata": {
    "collapsed": true
   },
   "outputs": [],
   "source": [
    "i=0\n",
    "dataset = data_gen.get_next_batch(\"val\")\n",
    "feed_dict={}\n",
    "feed_dict[model.video_mask] = np.ones([dataset[\"video\"].shape[0],dataset[\"video\"].shape[1]],dtype=np.int32)\n",
    "feed_dict[model.caption_input] = dataset[\"indexed_caption\"]\n",
    "feed_dict[model.caption_mask] = dataset[\"caption_mask\"]\n",
    "feed_dict[model.rnn_input] = dataset[\"video\"]\n",
    "feed_dict[model.is_training] = False"
   ]
  },
  {
   "cell_type": "code",
   "execution_count": null,
   "metadata": {
    "collapsed": true
   },
   "outputs": [],
   "source": []
  },
  {
   "cell_type": "code",
   "execution_count": 11,
   "metadata": {
    "collapsed": false
   },
   "outputs": [],
   "source": [
    "batch_loss = sess.run(model.batch_loss,feed_dict=feed_dict)"
   ]
  },
  {
   "cell_type": "code",
   "execution_count": null,
   "metadata": {
    "collapsed": false
   },
   "outputs": [],
   "source": [
    "%debug"
   ]
  },
  {
   "cell_type": "code",
   "execution_count": null,
   "metadata": {
    "collapsed": true
   },
   "outputs": [],
   "source": []
  }
 ],
 "metadata": {
  "kernelspec": {
   "display_name": "Python 3",
   "language": "python",
   "name": "python3"
  },
  "language_info": {
   "codemirror_mode": {
    "name": "ipython",
    "version": 3
   },
   "file_extension": ".py",
   "mimetype": "text/x-python",
   "name": "python",
   "nbconvert_exporter": "python",
   "pygments_lexer": "ipython3",
   "version": "3.5.2"
  }
 },
 "nbformat": 4,
 "nbformat_minor": 2
}
