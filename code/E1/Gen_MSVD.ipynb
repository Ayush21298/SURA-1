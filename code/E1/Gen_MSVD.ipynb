{
 "cells": [
  {
   "cell_type": "code",
   "execution_count": 1,
   "metadata": {
    "collapsed": false,
    "deletable": true,
    "editable": true
   },
   "outputs": [],
   "source": [
    "from __future__ import division\n",
    "from __future__ import print_function\n",
    "from __future__ import absolute_import\n",
    "\n",
    "import os\n",
    "import tensorflow as tf\n",
    "import numpy as np\n",
    "import time\n",
    "import json\n",
    "\n",
    "from model import Model_S2VT\n",
    "from data_generator import Data_Generator\n",
    "from inference_util import Inference\n",
    "\n",
    "import inception_base\n",
    "import configuration\n",
    "\n",
    "FLAGS = tf.app.flags.FLAGS\n",
    "\n",
    "tf.flags.DEFINE_integer(\"batch_size\", 64,\n",
    "                       \"Batch size of train data input.\")\n",
    "tf.flags.DEFINE_string(\"checkpoint_model\", None,\n",
    "                       \"Model Checkpoint to use.\")\n",
    "tf.flags.DEFINE_integer(\"max_captions\", None,\n",
    "                       \"Maximum number of captions to generate\")\n",
    "tf.flags.DEFINE_integer(\"max_len_captions\", None,\n",
    "                       \"Maximum length of captions to generate\")\n",
    "tf.flags.DEFINE_string(\"dataset\", \"test\",\n",
    "                       \"Dataset to use\")"
   ]
  },
  {
   "cell_type": "code",
   "execution_count": 2,
   "metadata": {
    "collapsed": true,
    "deletable": true,
    "editable": true
   },
   "outputs": [],
   "source": [
    "FLAGS.checkpoint_model = \"./s2vt_models/train/model-10164\""
   ]
  },
  {
   "cell_type": "code",
   "execution_count": 3,
   "metadata": {
    "collapsed": false,
    "deletable": true,
    "editable": true
   },
   "outputs": [],
   "source": [
    "data_config = configuration.DataConfig().config\n",
    "data_gen = Data_Generator(processed_video_dir = data_config[\"processed_video_dir\"],\n",
    "                         caption_file = data_config[\"caption_file\"],\n",
    "                         unique_freq_cutoff = data_config[\"unique_frequency_cutoff\"],\n",
    "                         max_caption_len = data_config[\"max_caption_length\"])\n",
    "\n",
    "data_gen.load_vocabulary(data_config[\"caption_data_dir\"])\n",
    "data_gen.load_dataset(data_config[\"caption_data_dir\"])\n",
    "#data_gen.build_dataset()"
   ]
  },
  {
   "cell_type": "code",
   "execution_count": null,
   "metadata": {
    "collapsed": true
   },
   "outputs": [],
   "source": [
    "data_gen.sa"
   ]
  },
  {
   "cell_type": "code",
   "execution_count": 12,
   "metadata": {
    "collapsed": false,
    "deletable": true,
    "editable": true
   },
   "outputs": [],
   "source": [
    "if FLAGS.max_len_captions:\n",
    "    max_len = FLAGS.max_len_captions\n",
    "else:\n",
    "    max_len = data_config['max_caption_length']\n",
    "\n",
    "model_config = configuration.ModelConfig(data_gen).config\n",
    "model = Model_S2VT( num_frames = model_config[\"num_frames\"],\n",
    "                    image_width = model_config[\"image_width\"],\n",
    "                    image_height = model_config[\"image_height\"],\n",
    "                    image_channels = model_config[\"image_channels\"],\n",
    "                    num_caption_unroll = model_config[\"num_caption_unroll\"],\n",
    "                    num_last_layer_units = model_config[\"num_last_layer_units\"],\n",
    "                    image_embedding_size = model_config[\"image_embedding_size\"],\n",
    "                    word_embedding_size = model_config[\"word_embedding_size\"],\n",
    "                    hidden_size_lstm1 = model_config[\"hidden_size_lstm1\"],\n",
    "                    hidden_size_lstm2 = model_config[\"hidden_size_lstm2\"],\n",
    "                    vocab_size = model_config[\"vocab_size\"],\n",
    "                    initializer_scale = model_config[\"initializer_scale\"],\n",
    "                    learning_rate = model_config[\"learning_rate\"])\n",
    "model.build()\n",
    "\n",
    "gen_caption = []\n",
    "\n",
    "infer_util = Inference(model,data_gen.word_to_idx,data_gen.idx_to_word)"
   ]
  },
  {
   "cell_type": "code",
   "execution_count": 13,
   "metadata": {
    "collapsed": true,
    "deletable": true,
    "editable": true
   },
   "outputs": [],
   "source": [
    "sess = tf.Session()"
   ]
  },
  {
   "cell_type": "code",
   "execution_count": 14,
   "metadata": {
    "collapsed": false,
    "deletable": true,
    "editable": true
   },
   "outputs": [
    {
     "name": "stdout",
     "output_type": "stream",
     "text": [
      "Restoring weights from ./s2vt_models/train/model-10164\n",
      "INFO:tensorflow:Restoring parameters from ./s2vt_models/train/model-10164\n"
     ]
    }
   ],
   "source": [
    "saver = tf.train.Saver(max_to_keep=20,keep_checkpoint_every_n_hours=0.5)\n",
    "if FLAGS.checkpoint_model:\n",
    "    model_path = FLAGS.checkpoint_model\n",
    "else:\n",
    "    model_path = tf.train.latest_checkpoint(data_config[\"checkpoint_dir\"])\n",
    "\n",
    "if model_path != None:\n",
    "    print(\"Restoring weights from %s\" %model_path)\n",
    "    saver.restore(sess,model_path)\n",
    "else:\n",
    "    print(\"No checkpoint found. Exiting\")"
   ]
  },
  {
   "cell_type": "code",
   "execution_count": 15,
   "metadata": {
    "collapsed": true,
    "deletable": true,
    "editable": true
   },
   "outputs": [],
   "source": [
    "dataset_dir = \"../dataset/MSVD_processed/test/\""
   ]
  },
  {
   "cell_type": "code",
   "execution_count": 16,
   "metadata": {
    "collapsed": false,
    "deletable": true,
    "editable": true
   },
   "outputs": [],
   "source": [
    "data_gen.dataset[FLAGS.dataset] = [{\"file_name\":i,\"path\":os.path.join(dataset_dir,i)} for i in os.listdir(dataset_dir) if \"avi.npy\" in i]"
   ]
  },
  {
   "cell_type": "code",
   "execution_count": 17,
   "metadata": {
    "collapsed": true,
    "deletable": true,
    "editable": true
   },
   "outputs": [],
   "source": [
    "if FLAGS.max_captions:\n",
    "    max_iter = FLAGS.max_captions\n",
    "else:\n",
    "    max_iter = len(data_gen.dataset[FLAGS.dataset])+10 #+10 is just to be safe ;)\n",
    "\n",
    "iter = 0\n",
    "btch = 0"
   ]
  },
  {
   "cell_type": "code",
   "execution_count": 18,
   "metadata": {
    "collapsed": true,
    "deletable": true,
    "editable": true
   },
   "outputs": [],
   "source": [
    "video_paths = {i[\"file_name\"]:i[\"path\"] for i in data_gen.dataset[FLAGS.dataset]}\n",
    "video_files = list(video_paths.keys())"
   ]
  },
  {
   "cell_type": "code",
   "execution_count": 19,
   "metadata": {
    "collapsed": false,
    "deletable": true,
    "editable": true
   },
   "outputs": [
    {
     "name": "stdout",
     "output_type": "stream",
     "text": [
      "Processing batch 1\n",
      "Processing batch 2\n",
      "Processing batch 3\n"
     ]
    }
   ],
   "source": [
    "for btch in range(0,len(video_files),FLAGS.batch_size):\n",
    "    print(\"Processing batch %d\" %(int(btch/FLAGS.batch_size)+1))\n",
    "    start = btch\n",
    "    end = min(len(video_files),btch+FLAGS.batch_size)\n",
    "    dataset={}\n",
    "    dataset[\"video\"] = np.asarray([np.load(video_paths[video_files[i]]) for i in range(start,end)])\n",
    "    dataset[\"path\"] = [video_paths[video_files[i]] for i in range(start,end)]\n",
    "    dataset[\"file\"] = [video_files[i] for i in range(start,end)]\n",
    "    dataset[\"gen_caption\"] = infer_util.generate_caption_batch(sess,dataset[\"video\"],max_len=max_len)\n",
    "    for i in range(len(dataset['gen_caption'])):\n",
    "        dictionary = {}\n",
    "        dictionary[\"gen_caption\"] = dataset['gen_caption'][i]\n",
    "        dictionary[\"file_name\"] = dataset['file'][i]\n",
    "        dictionary[\"path\"] = dataset['path'][i]\n",
    "        gen_caption.append(dictionary)\n",
    "        iter+=1\n",
    "        if iter >= max_iter:\n",
    "            break\n",
    "    if iter >= max_iter:\n",
    "        break\n",
    "with open(os.path.join(data_config[\"result_dir\"],\"generated_caption_msvd.json\"),\"w\") as fl:\n",
    "    fl.write(json.dumps(gen_caption, indent=4, sort_keys=True))"
   ]
  },
  {
   "cell_type": "code",
   "execution_count": 20,
   "metadata": {
    "collapsed": true,
    "deletable": true,
    "editable": true
   },
   "outputs": [],
   "source": [
    "basename = \"./rgb_test_features/\""
   ]
  },
  {
   "cell_type": "code",
   "execution_count": 21,
   "metadata": {
    "collapsed": true,
    "deletable": true,
    "editable": true
   },
   "outputs": [],
   "source": [
    "fl = open(\"../ignore/S2VT/S2VT_results.txt\",\"w\")"
   ]
  },
  {
   "cell_type": "code",
   "execution_count": 22,
   "metadata": {
    "collapsed": false,
    "deletable": true,
    "editable": true
   },
   "outputs": [],
   "source": [
    "for i in range(len(gen_caption)):\n",
    "    fl.write(os.path.join(basename,gen_caption[i]['file_name'])+\"\\n\")\n",
    "    fl.write(gen_caption[i]['gen_caption']+\"\\n\\n\")"
   ]
  },
  {
   "cell_type": "code",
   "execution_count": 23,
   "metadata": {
    "collapsed": true,
    "deletable": true,
    "editable": true
   },
   "outputs": [],
   "source": [
    "fl.close()"
   ]
  },
  {
   "cell_type": "code",
   "execution_count": null,
   "metadata": {
    "collapsed": false,
    "deletable": true,
    "editable": true
   },
   "outputs": [],
   "source": [
    "gen_caption[8]"
   ]
  },
  {
   "cell_type": "code",
   "execution_count": null,
   "metadata": {
    "collapsed": true,
    "deletable": true,
    "editable": true
   },
   "outputs": [],
   "source": [
    "x = np.load(\"../dataset/MSVD_processed/test/VyBXcQ1v_cw_7_15.avi.npy\")"
   ]
  },
  {
   "cell_type": "code",
   "execution_count": null,
   "metadata": {
    "collapsed": true,
    "deletable": true,
    "editable": true
   },
   "outputs": [],
   "source": [
    "y = np.load(\"../dataset/MSVD_processed/test/VyBXcQ1v_cw_7_15.avi.mask.npy\")"
   ]
  },
  {
   "cell_type": "code",
   "execution_count": 2,
   "metadata": {
    "collapsed": true,
    "deletable": true,
    "editable": true
   },
   "outputs": [],
   "source": [
    "import numpy as np"
   ]
  },
  {
   "cell_type": "code",
   "execution_count": 3,
   "metadata": {
    "collapsed": false,
    "deletable": true,
    "editable": true
   },
   "outputs": [],
   "source": [
    "x = np.load(\"/home/ozym4nd145/Coding/Notebook/SURA/ignore/S2VT/rgb_test_features/X98fLZHIzWQ_15_20.avi.npy\")"
   ]
  },
  {
   "cell_type": "code",
   "execution_count": null,
   "metadata": {
    "collapsed": false,
    "deletable": true,
    "editable": true
   },
   "outputs": [],
   "source": [
    "y.dtype"
   ]
  },
  {
   "cell_type": "code",
   "execution_count": null,
   "metadata": {
    "collapsed": false,
    "deletable": true,
    "editable": true
   },
   "outputs": [],
   "source": [
    "y"
   ]
  },
  {
   "cell_type": "code",
   "execution_count": null,
   "metadata": {
    "collapsed": true,
    "deletable": true,
    "editable": true
   },
   "outputs": [],
   "source": [
    "sess.close()"
   ]
  },
  {
   "cell_type": "code",
   "execution_count": 6,
   "metadata": {
    "collapsed": true,
    "deletable": true,
    "editable": true
   },
   "outputs": [],
   "source": [
    "val_files = [\"X98fLZHIzWQ_15_20.avi.npy\",\"yREFkmrrYiw_51_57.avi.npy\",\"xaPepCVepCg_35_46.avi.npy\",\"YRSOc193Pxc_68_73.avi.npy\",\"xBePrplM4OA_6_18.avi.npy\",\"YS1mzzhmWWA_9_16.avi.npy\",\"xb-Nacm-pKc_78_82.avi.npy\",\"ysTmUTQ5wZE_17_45.avi.npy\",\"xBW_uR3kGr4_42_55.avi.npy\",\"yU5sxW9bErQ_0_17.avi.npy\",\"xCFCXzDUGjY_5_9.avi.npy\",\"_yUiusXxfWI_150_165.avi.npy\",\"XdB0pVjFYoU_1_8.avi.npy\",\"YUlG_PKzpvc_0_8.avi.npy\",\"xdhLQCYQ-nQ_50_63.avi.npy\",\"yvfhk1kwKls_103_113.avi.npy\",\"xEDCfcMZlZY_37_41.avi.npy\",\"ywHBKayhyvQ_19_28.avi.npy\",\"xEDCfcMZlZY_91_100.avi.npy\",\"ywMLb2VfHbI_13_20.avi.npy\",\"XEOH3t5AYY0_22_29.avi.npy\",\"YwmUgVrUJ4I_0_15.avi.npy\",\"_xf24TYgbuY_14_20.avi.npy\",\"YXixZrSxefk_17_48.avi.npy\",\"xfRIRSWy0y0_10_20.avi.npy\",\"YXixZrSxefk_49_59.avi.npy\",\"xGdoi3W3Z4o_2_40.avi.npy\",\"YXixZrSxefk_6_15.avi.npy\",\"xgIIcPSh4EU_0_6.avi.npy\",\"yYA7YXIKbg4_9_14.avi.npy\",\"Xh6rdpJNaf0_0_15.avi.npy\",\"yyxtyCaEVqk_250_264.avi.npy\",\"xkNDE1JL6Z8_50_59.avi.npy\",\"yyxtyCaEVqk_321_328.avi.npy\",\"xlPyHMkpaQY_1_7.avi.npy\",\"yyxtyCaEVqk_329_360.avi.npy\",\"X_NLV2KCnIE_60_70.avi.npy\",\"YZ0-6hdQ0mU_0_3.avi.npy\",\"XNV7hKVu-Xg_40_47.avi.npy\",\"z0Si1XxMibg_0_30.avi.npy\",\"XNzXXiE6qR4_0_10.avi.npy\",\"z0zb--BOhDY_16_22.avi.npy\",\"XOAgUVVwKEA_8_20.avi.npy\",\"Z10_CDPQKKs_1_6.avi.npy\",\"xOQn1z_oWDY_30_39.avi.npy\",\"Z19zFlPah-o_6_11.avi.npy\",\"Xp6rxW4hFFo_32_40.avi.npy\",\"z1PEyzk4ADU_8_18.avi.npy\",\"xpOYXbMDDBY_1_20.avi.npy\",\"z2kUc8wp9l8_40_46.avi.npy\",\"xPR0xFgCAZY_17_27.avi.npy\",\"Z3m9V8qPXhQ_13_24.avi.npy\",\"xSmfK498DjI_1_20.avi.npy\",\"Z3rj9LbCOaM_0_12.avi.npy\",\"xtbsD3PUua4_174_185.avi.npy\",\"Z3XarHZ3HpY_10_17.avi.npy\",\"xtbsD3PUua4_84_94.avi.npy\",\"z8dcUzdi2bw_3_16.avi.npy\",\"xTd_IdIcB4s_2_10.avi.npy\",\"Z8rTzW9Gb6Y_116_123.avi.npy\",\"XtQdAPV2UZs_4_11.avi.npy\",\"z9qbQX4J_2g_0_14.avi.npy\",\"Xvy21KrDv8I_0_10.avi.npy\",\"za-9mBZyNfQ_330_336.avi.npy\",\"Xwrl4htUPjo_22_38.avi.npy\",\"Z-An1QQ66f0_13_25.avi.npy\",\"Xxcv5jvRmcg_39_46.avi.npy\",\"zbAk0gX7kas_16_24.avi.npy\",\"xxHx6s_DbUo_121_128.avi.npy\",\"zBrC1GmA0Qg_26_33.avi.npy\",\"xxHx6s_DbUo_158_161.avi.npy\",\"ZbtpcGi2DWY_161_170.avi.npy\",\"xxHx6s_DbUo_162_165.avi.npy\",\"ZbtpcGi2DWY_56_62.avi.npy\",\"xxHx6s_DbUo_173_177.avi.npy\",\"ZbzDGXEwtGc_6_15.avi.npy\",\"xxHx6s_DbUo_182_186.avi.npy\",\"zCf8NWJ8kzA_47_52.avi.npy\",\"xxHx6s_DbUo_202_207.avi.npy\",\"ZdlG8fjGJlo_78_87.avi.npy\",\"xxHx6s_DbUo_216_222.avi.npy\",\"ZdNP0dXCx2I_78_90.avi.npy\",\"xxHx6s_DbUo_240_248.avi.npy\",\"ZDoy9S82ETA_5_15.avi.npy\",\"xxHx6s_DbUo_32_36.avi.npy\",\"zFIn8DeV5PM_20_33.avi.npy\",\"xxHx6s_DbUo_36_40.avi.npy\",\"zfQOH4UGU_I_1_10.avi.npy\",\"xxHx6s_DbUo_41_44.avi.npy\",\"Zg0p5TXi_Cc_30_46.avi.npy\",\"xxHx6s_DbUo_49_56.avi.npy\",\"zH4v_DClIoc_3_28.avi.npy\",\"xxHx6s_DbUo_57_61.avi.npy\",\"zhLcONtNkew_16_21.avi.npy\",\"xxHx6s_DbUo_82_86.avi.npy\",\"zHy7pM0U49w_103_109.avi.npy\",\"xxHx6s_DbUo_98_101.avi.npy\",\"zHy7pM0U49w_110_116.avi.npy\",\"xXlWsBhFvis_6_10.avi.npy\",\"ZK4W-2ifl6I_1_28.avi.npy\",\"xy9LLUUZ6ic_50_60.avi.npy\",\"zkTn5Ef1Oig_70_75.avi.npy\",\"XZ0Ch_ClBfo_120_127.avi.npy\",\"zkTn5Ef1Oig_71_75.avi.npy\",\"XzCcRzEa83U_1_8.avi.npy\",\"ZL7P_XmSnEY_205_209.avi.npy\",\"XzCcRzEa83U_39_46.avi.npy\",\"zlS1_zBYluY_15_21.avi.npy\",\"Y4BeJ-64294_20_30.avi.npy\",\"ZlX_Gy4HP2E_38_55.avi.npy\",\"Y4gaJn0wlDE_0_10.avi.npy\",\"zMg9dChF97A_12_38.avi.npy\",\"y8SDRc4IOjs_94_99.avi.npy\",\"ZN2_czSBSD0_240_250.avi.npy\",\"yAD_TS5L2d4_4_11.avi.npy\",\"ZnLgsasu82g_71_81.avi.npy\",\"Ya-MkA187c8_36_45.avi.npy\",\"-zOrV-5vh1A_69_76.avi.npy\",\"YAud4eS3DoA_54_65.avi.npy\",\"Zoz0HcCB1vU_0_10.avi.npy\",\"yBK02O1Oewc_20_35.avi.npy\",\"zpgW7m7_LZw_2_15.avi.npy\",\"ybVb3t560oY_0_9.avi.npy\",\"z_qf7tOnHVg_81_89.avi.npy\",\"yC4eEuURH8c_19_28.avi.npy\",\"Zqmx-nXhLAg_0_10.avi.npy\",\"yd8jh9QYfEs_4_10.avi.npy\",\"zr9OeyfLPPY_4_9.avi.npy\",\"YEmS8ZQIhTA_7_20.avi.npy\",\"zS50h-a8RTg_3_9.avi.npy\",\"YersIyzsOpc_15_30.avi.npy\",\"zSPBC8EO6dY_122_126.avi.npy\",\"yfMTsYcLt10_0_7.avi.npy\",\"zSPBC8EO6dY_132_140.avi.npy\",\"yFPHhRat6bc_160_210.avi.npy\",\"zSPBC8EO6dY_64_73.avi.npy\",\"yg4aNiO1JnI_111_114.avi.npy\",\"zSPBC8EO6dY_97_110.avi.npy\",\"Yh2N6ZtRBdU_110_120.avi.npy\",\"ZsrPKtx0qyg_7_15.avi.npy\",\"-YI0cxuNcq8_262_272.avi.npy\",\"zTn-nNj5Bng_61_77.avi.npy\",\"yId1rg5-ac0_40_50.avi.npy\",\"zTn-nNj5Bng_8_19.avi.npy\",\"YJ2aGe7CLBo_25_35.avi.npy\",\"zulPFoY64wE_26_33.avi.npy\",\"Ylb4pnW-jP4_102_113.avi.npy\",\"zuYZ5kPatJE_78_116.avi.npy\",\"ymC2bNi6-Is_9_19.avi.npy\",\"zv2RIbUsnSw_159_162.avi.npy\",\"YmXCfQm0_CA_109_120.avi.npy\",\"zv2RIbUsnSw_335_341.avi.npy\",\"YmXCfQm0_CA_140_156.avi.npy\",\"ZvJvNcukZ4w_0_10.avi.npy\",\"YmXCfQm0_CA_277_284.avi.npy\",\"zWVQImPY2Cc_27_44.avi.npy\",\"YmXCfQm0_CA_50_57.avi.npy\",\"_ZwwKOzpt2I_69_76.avi.npy\",\"YmXCfQm0_CA_68_75.avi.npy\",\"zxB4dFJhHR8_1_9.avi.npy\",\"YmXCfQm0_CA_7_16.avi.npy\",\"ZxqkAGNyo8A_12_22.avi.npy\",\"YndZ9YulpTo_61_76.avi.npy\",\"ZYaxg5NZW_g_21_27.avi.npy\",\"yNy9jTeolUk_8_12.avi.npy\",\"zYcY4mjLpxU_104_118.avi.npy\",\"yOnRm3TP6hM_0_12.avi.npy\",\"zYcY4mjLpxU_45_55.avi.npy\",\"yPNFVj-pISU_105_115.avi.npy\",\"zzit5b_-ukg_5_20.avi.npy\"]"
   ]
  },
  {
   "cell_type": "code",
   "execution_count": 7,
   "metadata": {
    "collapsed": true,
    "deletable": true,
    "editable": true
   },
   "outputs": [],
   "source": [
    "val_files = set(val_files)"
   ]
  },
  {
   "cell_type": "code",
   "execution_count": 8,
   "metadata": {
    "collapsed": false,
    "deletable": true,
    "editable": true
   },
   "outputs": [
    {
     "data": {
      "text/plain": [
       "{'-YI0cxuNcq8_262_272.avi.npy',\n",
       " '-zOrV-5vh1A_69_76.avi.npy',\n",
       " 'X98fLZHIzWQ_15_20.avi.npy',\n",
       " 'XEOH3t5AYY0_22_29.avi.npy',\n",
       " 'XNV7hKVu-Xg_40_47.avi.npy',\n",
       " 'XNzXXiE6qR4_0_10.avi.npy',\n",
       " 'XOAgUVVwKEA_8_20.avi.npy',\n",
       " 'XZ0Ch_ClBfo_120_127.avi.npy',\n",
       " 'X_NLV2KCnIE_60_70.avi.npy',\n",
       " 'XdB0pVjFYoU_1_8.avi.npy',\n",
       " 'Xh6rdpJNaf0_0_15.avi.npy',\n",
       " 'Xp6rxW4hFFo_32_40.avi.npy',\n",
       " 'XtQdAPV2UZs_4_11.avi.npy',\n",
       " 'Xvy21KrDv8I_0_10.avi.npy',\n",
       " 'Xwrl4htUPjo_22_38.avi.npy',\n",
       " 'Xxcv5jvRmcg_39_46.avi.npy',\n",
       " 'XzCcRzEa83U_1_8.avi.npy',\n",
       " 'XzCcRzEa83U_39_46.avi.npy',\n",
       " 'Y4BeJ-64294_20_30.avi.npy',\n",
       " 'Y4gaJn0wlDE_0_10.avi.npy',\n",
       " 'YAud4eS3DoA_54_65.avi.npy',\n",
       " 'YEmS8ZQIhTA_7_20.avi.npy',\n",
       " 'YJ2aGe7CLBo_25_35.avi.npy',\n",
       " 'YRSOc193Pxc_68_73.avi.npy',\n",
       " 'YS1mzzhmWWA_9_16.avi.npy',\n",
       " 'YUlG_PKzpvc_0_8.avi.npy',\n",
       " 'YXixZrSxefk_17_48.avi.npy',\n",
       " 'YXixZrSxefk_49_59.avi.npy',\n",
       " 'YXixZrSxefk_6_15.avi.npy',\n",
       " 'YZ0-6hdQ0mU_0_3.avi.npy',\n",
       " 'Ya-MkA187c8_36_45.avi.npy',\n",
       " 'YersIyzsOpc_15_30.avi.npy',\n",
       " 'Yh2N6ZtRBdU_110_120.avi.npy',\n",
       " 'Ylb4pnW-jP4_102_113.avi.npy',\n",
       " 'YmXCfQm0_CA_109_120.avi.npy',\n",
       " 'YmXCfQm0_CA_140_156.avi.npy',\n",
       " 'YmXCfQm0_CA_277_284.avi.npy',\n",
       " 'YmXCfQm0_CA_50_57.avi.npy',\n",
       " 'YmXCfQm0_CA_68_75.avi.npy',\n",
       " 'YmXCfQm0_CA_7_16.avi.npy',\n",
       " 'YndZ9YulpTo_61_76.avi.npy',\n",
       " 'YwmUgVrUJ4I_0_15.avi.npy',\n",
       " 'Z-An1QQ66f0_13_25.avi.npy',\n",
       " 'Z10_CDPQKKs_1_6.avi.npy',\n",
       " 'Z19zFlPah-o_6_11.avi.npy',\n",
       " 'Z3XarHZ3HpY_10_17.avi.npy',\n",
       " 'Z3m9V8qPXhQ_13_24.avi.npy',\n",
       " 'Z3rj9LbCOaM_0_12.avi.npy',\n",
       " 'Z8rTzW9Gb6Y_116_123.avi.npy',\n",
       " 'ZDoy9S82ETA_5_15.avi.npy',\n",
       " 'ZK4W-2ifl6I_1_28.avi.npy',\n",
       " 'ZL7P_XmSnEY_205_209.avi.npy',\n",
       " 'ZN2_czSBSD0_240_250.avi.npy',\n",
       " 'ZYaxg5NZW_g_21_27.avi.npy',\n",
       " 'ZbtpcGi2DWY_161_170.avi.npy',\n",
       " 'ZbtpcGi2DWY_56_62.avi.npy',\n",
       " 'ZbzDGXEwtGc_6_15.avi.npy',\n",
       " 'ZdNP0dXCx2I_78_90.avi.npy',\n",
       " 'ZdlG8fjGJlo_78_87.avi.npy',\n",
       " 'Zg0p5TXi_Cc_30_46.avi.npy',\n",
       " 'ZlX_Gy4HP2E_38_55.avi.npy',\n",
       " 'ZnLgsasu82g_71_81.avi.npy',\n",
       " 'Zoz0HcCB1vU_0_10.avi.npy',\n",
       " 'Zqmx-nXhLAg_0_10.avi.npy',\n",
       " 'ZsrPKtx0qyg_7_15.avi.npy',\n",
       " 'ZvJvNcukZ4w_0_10.avi.npy',\n",
       " 'ZxqkAGNyo8A_12_22.avi.npy',\n",
       " '_ZwwKOzpt2I_69_76.avi.npy',\n",
       " '_xf24TYgbuY_14_20.avi.npy',\n",
       " '_yUiusXxfWI_150_165.avi.npy',\n",
       " 'xBW_uR3kGr4_42_55.avi.npy',\n",
       " 'xBePrplM4OA_6_18.avi.npy',\n",
       " 'xCFCXzDUGjY_5_9.avi.npy',\n",
       " 'xEDCfcMZlZY_37_41.avi.npy',\n",
       " 'xEDCfcMZlZY_91_100.avi.npy',\n",
       " 'xGdoi3W3Z4o_2_40.avi.npy',\n",
       " 'xOQn1z_oWDY_30_39.avi.npy',\n",
       " 'xPR0xFgCAZY_17_27.avi.npy',\n",
       " 'xSmfK498DjI_1_20.avi.npy',\n",
       " 'xTd_IdIcB4s_2_10.avi.npy',\n",
       " 'xXlWsBhFvis_6_10.avi.npy',\n",
       " 'xaPepCVepCg_35_46.avi.npy',\n",
       " 'xb-Nacm-pKc_78_82.avi.npy',\n",
       " 'xdhLQCYQ-nQ_50_63.avi.npy',\n",
       " 'xfRIRSWy0y0_10_20.avi.npy',\n",
       " 'xgIIcPSh4EU_0_6.avi.npy',\n",
       " 'xkNDE1JL6Z8_50_59.avi.npy',\n",
       " 'xlPyHMkpaQY_1_7.avi.npy',\n",
       " 'xpOYXbMDDBY_1_20.avi.npy',\n",
       " 'xtbsD3PUua4_174_185.avi.npy',\n",
       " 'xtbsD3PUua4_84_94.avi.npy',\n",
       " 'xxHx6s_DbUo_121_128.avi.npy',\n",
       " 'xxHx6s_DbUo_158_161.avi.npy',\n",
       " 'xxHx6s_DbUo_162_165.avi.npy',\n",
       " 'xxHx6s_DbUo_173_177.avi.npy',\n",
       " 'xxHx6s_DbUo_182_186.avi.npy',\n",
       " 'xxHx6s_DbUo_202_207.avi.npy',\n",
       " 'xxHx6s_DbUo_216_222.avi.npy',\n",
       " 'xxHx6s_DbUo_240_248.avi.npy',\n",
       " 'xxHx6s_DbUo_32_36.avi.npy',\n",
       " 'xxHx6s_DbUo_36_40.avi.npy',\n",
       " 'xxHx6s_DbUo_41_44.avi.npy',\n",
       " 'xxHx6s_DbUo_49_56.avi.npy',\n",
       " 'xxHx6s_DbUo_57_61.avi.npy',\n",
       " 'xxHx6s_DbUo_82_86.avi.npy',\n",
       " 'xxHx6s_DbUo_98_101.avi.npy',\n",
       " 'xy9LLUUZ6ic_50_60.avi.npy',\n",
       " 'y8SDRc4IOjs_94_99.avi.npy',\n",
       " 'yAD_TS5L2d4_4_11.avi.npy',\n",
       " 'yBK02O1Oewc_20_35.avi.npy',\n",
       " 'yC4eEuURH8c_19_28.avi.npy',\n",
       " 'yFPHhRat6bc_160_210.avi.npy',\n",
       " 'yId1rg5-ac0_40_50.avi.npy',\n",
       " 'yNy9jTeolUk_8_12.avi.npy',\n",
       " 'yOnRm3TP6hM_0_12.avi.npy',\n",
       " 'yPNFVj-pISU_105_115.avi.npy',\n",
       " 'yREFkmrrYiw_51_57.avi.npy',\n",
       " 'yU5sxW9bErQ_0_17.avi.npy',\n",
       " 'yYA7YXIKbg4_9_14.avi.npy',\n",
       " 'ybVb3t560oY_0_9.avi.npy',\n",
       " 'yd8jh9QYfEs_4_10.avi.npy',\n",
       " 'yfMTsYcLt10_0_7.avi.npy',\n",
       " 'yg4aNiO1JnI_111_114.avi.npy',\n",
       " 'ymC2bNi6-Is_9_19.avi.npy',\n",
       " 'ysTmUTQ5wZE_17_45.avi.npy',\n",
       " 'yvfhk1kwKls_103_113.avi.npy',\n",
       " 'ywHBKayhyvQ_19_28.avi.npy',\n",
       " 'ywMLb2VfHbI_13_20.avi.npy',\n",
       " 'yyxtyCaEVqk_250_264.avi.npy',\n",
       " 'yyxtyCaEVqk_321_328.avi.npy',\n",
       " 'yyxtyCaEVqk_329_360.avi.npy',\n",
       " 'z0Si1XxMibg_0_30.avi.npy',\n",
       " 'z0zb--BOhDY_16_22.avi.npy',\n",
       " 'z1PEyzk4ADU_8_18.avi.npy',\n",
       " 'z2kUc8wp9l8_40_46.avi.npy',\n",
       " 'z8dcUzdi2bw_3_16.avi.npy',\n",
       " 'z9qbQX4J_2g_0_14.avi.npy',\n",
       " 'zBrC1GmA0Qg_26_33.avi.npy',\n",
       " 'zCf8NWJ8kzA_47_52.avi.npy',\n",
       " 'zFIn8DeV5PM_20_33.avi.npy',\n",
       " 'zH4v_DClIoc_3_28.avi.npy',\n",
       " 'zHy7pM0U49w_103_109.avi.npy',\n",
       " 'zHy7pM0U49w_110_116.avi.npy',\n",
       " 'zMg9dChF97A_12_38.avi.npy',\n",
       " 'zS50h-a8RTg_3_9.avi.npy',\n",
       " 'zSPBC8EO6dY_122_126.avi.npy',\n",
       " 'zSPBC8EO6dY_132_140.avi.npy',\n",
       " 'zSPBC8EO6dY_64_73.avi.npy',\n",
       " 'zSPBC8EO6dY_97_110.avi.npy',\n",
       " 'zTn-nNj5Bng_61_77.avi.npy',\n",
       " 'zTn-nNj5Bng_8_19.avi.npy',\n",
       " 'zWVQImPY2Cc_27_44.avi.npy',\n",
       " 'zYcY4mjLpxU_104_118.avi.npy',\n",
       " 'zYcY4mjLpxU_45_55.avi.npy',\n",
       " 'z_qf7tOnHVg_81_89.avi.npy',\n",
       " 'za-9mBZyNfQ_330_336.avi.npy',\n",
       " 'zbAk0gX7kas_16_24.avi.npy',\n",
       " 'zfQOH4UGU_I_1_10.avi.npy',\n",
       " 'zhLcONtNkew_16_21.avi.npy',\n",
       " 'zkTn5Ef1Oig_70_75.avi.npy',\n",
       " 'zkTn5Ef1Oig_71_75.avi.npy',\n",
       " 'zlS1_zBYluY_15_21.avi.npy',\n",
       " 'zpgW7m7_LZw_2_15.avi.npy',\n",
       " 'zr9OeyfLPPY_4_9.avi.npy',\n",
       " 'zuYZ5kPatJE_78_116.avi.npy',\n",
       " 'zulPFoY64wE_26_33.avi.npy',\n",
       " 'zv2RIbUsnSw_159_162.avi.npy',\n",
       " 'zv2RIbUsnSw_335_341.avi.npy',\n",
       " 'zxB4dFJhHR8_1_9.avi.npy',\n",
       " 'zzit5b_-ukg_5_20.avi.npy'}"
      ]
     },
     "execution_count": 8,
     "metadata": {},
     "output_type": "execute_result"
    }
   ],
   "source": []
  },
  {
   "cell_type": "code",
   "execution_count": null,
   "metadata": {
    "collapsed": true,
    "deletable": true,
    "editable": true
   },
   "outputs": [],
   "source": []
  }
 ],
 "metadata": {
  "kernelspec": {
   "display_name": "Python 3",
   "language": "python",
   "name": "python3"
  },
  "language_info": {
   "codemirror_mode": {
    "name": "ipython",
    "version": 3
   },
   "file_extension": ".py",
   "mimetype": "text/x-python",
   "name": "python",
   "nbconvert_exporter": "python",
   "pygments_lexer": "ipython3",
   "version": "3.5.2"
  }
 },
 "nbformat": 4,
 "nbformat_minor": 2
}
